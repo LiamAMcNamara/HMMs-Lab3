{
  "nbformat": 4,
  "nbformat_minor": 0,
  "metadata": {
    "colab": {
      "name": "McNamara Lab #3: HMMs.ipynb",
      "provenance": [],
      "collapsed_sections": [],
      "authorship_tag": "ABX9TyOcBVzrho6v8PQBfGNHZiBY",
      "include_colab_link": true
    },
    "kernelspec": {
      "name": "python3",
      "display_name": "Python 3"
    }
  },
  "cells": [
    {
      "cell_type": "markdown",
      "metadata": {
        "id": "view-in-github",
        "colab_type": "text"
      },
      "source": [
        "<a href=\"https://colab.research.google.com/github/LiamAMcNamara/HMMs-Lab3/blob/master/McNamara_Lab_3_HMMs.ipynb\" target=\"_parent\"><img src=\"https://colab.research.google.com/assets/colab-badge.svg\" alt=\"Open In Colab\"/></a>"
      ]
    },
    {
      "cell_type": "markdown",
      "metadata": {
        "id": "wYIP12YMSjxe",
        "colab_type": "text"
      },
      "source": [
        "**CSE 5522 Lab #3: Hidden Markov Models**\n",
        "\n",
        "Liam McNamara.308\n",
        "\n",
        "June 11, 2020\n",
        "\n",
        "---\n",
        "---"
      ]
    },
    {
      "cell_type": "markdown",
      "metadata": {
        "id": "M-wKlc8eIZzV",
        "colab_type": "text"
      },
      "source": [
        "**Part 1 (50 Points):** Implement the Viterbi Algorithm for HMMs for Eisner's Ice Cream Problem (predict whether each day is hot or cold based on the number of ice creams eaten). See elsner.hmm.xls for a bit more discussion on the problem. Remeber that the Viterbi algorithm computes the most likely sequence for an input.\n",
        "\n",
        "Your solution should be able to handle variable length sequences (in the range of 3-5).\n",
        "\n",
        "There are 3 files provided for you that have observation/emission probabilities, transition probabilities, and test sequence data (for evaluation), respectively.\n",
        "\n",
        "Please read the probabilities and observations from their Carmen URLs, *do not hard-code the values*. Refer back to lab 2 for exampes of working with CSV files and how to download them from URLs.\n",
        "\n",
        "The observation and transition probabilities have rows being the variable of interest, and columns being the conditioning variables. For example, P(2|H) is in the 3rd row (including header), 3rd column (including row label). The columns sum up to 1.\n",
        "\n",
        "The test data has one line per sequence. When a sequence is less than five observations long, the last  columns are filled with zeros.\n",
        "\n"
      ]
    },
    {
      "cell_type": "markdown",
      "metadata": {
        "id": "Syd8WluUS8gJ",
        "colab_type": "text"
      },
      "source": [
        "Set up the environment"
      ]
    },
    {
      "cell_type": "code",
      "metadata": {
        "id": "eFbCF14o8X33",
        "colab_type": "code",
        "colab": {}
      },
      "source": [
        "import matplotlib.pyplot as plt\n",
        "import pandas as pd\n",
        "import numpy as np\n",
        "import random as rdm"
      ],
      "execution_count": 1,
      "outputs": []
    },
    {
      "cell_type": "markdown",
      "metadata": {
        "id": "GaV1tRaKTHf1",
        "colab_type": "text"
      },
      "source": [
        "Read in the provided data from Carmen URL"
      ]
    },
    {
      "cell_type": "code",
      "metadata": {
        "id": "g3jtVSmzB8T4",
        "colab_type": "code",
        "colab": {}
      },
      "source": [
        "\n",
        "emissionURL = 'https://raw.githubusercontent.com/LiamAMcNamara/HMMs-Lab3/master/observationProbsLecture.csv'\n",
        "emission_dataframe = pd.read_csv(emissionURL)\n",
        "transitionURL = 'https://raw.githubusercontent.com/LiamAMcNamara/HMMs-Lab3/master/transitionProbsLecture.csv'\n",
        "transition_dataframe = pd.read_csv(transitionURL)\n",
        "testDataURL = 'https://raw.githubusercontent.com/LiamAMcNamara/HMMs-Lab3/master/testDataLecture.csv'\n",
        "testData_dataframe = pd.read_csv(testDataURL)"
      ],
      "execution_count": 2,
      "outputs": []
    },
    {
      "cell_type": "markdown",
      "metadata": {
        "id": "kLwS0Wd_pKE7",
        "colab_type": "text"
      },
      "source": [
        "Above is the data from the example we did in lecture (and checkpoint exercise) converted to CSV format. It can be run in place of the ice cream data for part 1, but not for part 2. One will observe the same M and C-matricies as well as most likely sequence values. The purpose for this was to check my results. In order for it to work I had to write my code for part 1 in a way that accomodated data with 3 hidden vairables. I believe this process was worthwhile."
      ]
    },
    {
      "cell_type": "code",
      "metadata": {
        "id": "j1ibBmZtU1vX",
        "colab_type": "code",
        "colab": {}
      },
      "source": [
        "emissionURL = 'http://web.cse.ohio-state.edu/~barker.348/cse5522/lab3/observationProbs.csv'\n",
        "emission_dataframe = pd.read_csv(emissionURL)\n",
        "transitionURL = 'http://web.cse.ohio-state.edu/~barker.348/cse5522/lab3/transitionProbs.csv'\n",
        "transition_dataframe = pd.read_csv(transitionURL)\n",
        "testDataURL = 'http://web.cse.ohio-state.edu/~barker.348/cse5522/lab3/testData.csv'\n",
        "testData_dataframe = pd.read_csv(testDataURL)"
      ],
      "execution_count": 4,
      "outputs": []
    },
    {
      "cell_type": "markdown",
      "metadata": {
        "id": "U1FAs5XtVqnd",
        "colab_type": "text"
      },
      "source": [
        "Print out the top of the dataframes to make sure the data loaded correctly. For the Ice Cream problem, the data tables should have the following format:\n",
        "\n",
        "Emission Probabilities [3, 3]: 3 columns (P(x|...), C, H), and 3 rows corresponding the the number of ice creams\n",
        "\n",
        "Transition Probabilities [3, 4]: 4 columns (P(x|...), C, H, START), and 3 rows (C, H, STOP)\n",
        "\n",
        "Test Sequence Data [10, 6]: 6 columns (SeqNumber, Obs1...5), and 10 rows corresponing the the sequence sample number.\n",
        "\n",
        "Note: The test data has one line per sequence. When a sequence is less than five observations long, the last columns are filled with zeros."
      ]
    },
    {
      "cell_type": "code",
      "metadata": {
        "id": "ImUuqM6DV2Cq",
        "colab_type": "code",
        "colab": {
          "base_uri": "https://localhost:8080/",
          "height": 613
        },
        "outputId": "d465e712-08dc-4af6-dca4-98c5931c85fa"
      },
      "source": [
        "print(\"Emission Probabilities\")\n",
        "display(emission_dataframe.shape)\n",
        "display(emission_dataframe.head())\n",
        "print('\\n')\n",
        "print(\"Transition Probabilities\")\n",
        "display(transition_dataframe.shape)\n",
        "display(transition_dataframe.head())\n",
        "print('\\n')\n",
        "print(\"Test Sequence Data\")\n",
        "display(testData_dataframe.shape)\n",
        "display(testData_dataframe.head())"
      ],
      "execution_count": 5,
      "outputs": [
        {
          "output_type": "stream",
          "text": [
            "Emission Probabilities\n"
          ],
          "name": "stdout"
        },
        {
          "output_type": "display_data",
          "data": {
            "text/plain": [
              "(3, 3)"
            ]
          },
          "metadata": {
            "tags": []
          }
        },
        {
          "output_type": "display_data",
          "data": {
            "text/html": [
              "<div>\n",
              "<style scoped>\n",
              "    .dataframe tbody tr th:only-of-type {\n",
              "        vertical-align: middle;\n",
              "    }\n",
              "\n",
              "    .dataframe tbody tr th {\n",
              "        vertical-align: top;\n",
              "    }\n",
              "\n",
              "    .dataframe thead th {\n",
              "        text-align: right;\n",
              "    }\n",
              "</style>\n",
              "<table border=\"1\" class=\"dataframe\">\n",
              "  <thead>\n",
              "    <tr style=\"text-align: right;\">\n",
              "      <th></th>\n",
              "      <th>P(x|...)</th>\n",
              "      <th>C</th>\n",
              "      <th>H</th>\n",
              "    </tr>\n",
              "  </thead>\n",
              "  <tbody>\n",
              "    <tr>\n",
              "      <th>0</th>\n",
              "      <td>1</td>\n",
              "      <td>0.6407</td>\n",
              "      <td>0.0002</td>\n",
              "    </tr>\n",
              "    <tr>\n",
              "      <th>1</th>\n",
              "      <td>2</td>\n",
              "      <td>0.1481</td>\n",
              "      <td>0.5341</td>\n",
              "    </tr>\n",
              "    <tr>\n",
              "      <th>2</th>\n",
              "      <td>3</td>\n",
              "      <td>0.2122</td>\n",
              "      <td>0.4657</td>\n",
              "    </tr>\n",
              "  </tbody>\n",
              "</table>\n",
              "</div>"
            ],
            "text/plain": [
              "   P(x|...)       C       H\n",
              "0         1  0.6407  0.0002\n",
              "1         2  0.1481  0.5341\n",
              "2         3  0.2122  0.4657"
            ]
          },
          "metadata": {
            "tags": []
          }
        },
        {
          "output_type": "stream",
          "text": [
            "\n",
            "\n",
            "Transition Probabilities\n"
          ],
          "name": "stdout"
        },
        {
          "output_type": "display_data",
          "data": {
            "text/plain": [
              "(3, 4)"
            ]
          },
          "metadata": {
            "tags": []
          }
        },
        {
          "output_type": "display_data",
          "data": {
            "text/html": [
              "<div>\n",
              "<style scoped>\n",
              "    .dataframe tbody tr th:only-of-type {\n",
              "        vertical-align: middle;\n",
              "    }\n",
              "\n",
              "    .dataframe tbody tr th {\n",
              "        vertical-align: top;\n",
              "    }\n",
              "\n",
              "    .dataframe thead th {\n",
              "        text-align: right;\n",
              "    }\n",
              "</style>\n",
              "<table border=\"1\" class=\"dataframe\">\n",
              "  <thead>\n",
              "    <tr style=\"text-align: right;\">\n",
              "      <th></th>\n",
              "      <th>P(x|...)</th>\n",
              "      <th>C</th>\n",
              "      <th>H</th>\n",
              "      <th>START</th>\n",
              "    </tr>\n",
              "  </thead>\n",
              "  <tbody>\n",
              "    <tr>\n",
              "      <th>0</th>\n",
              "      <td>C</td>\n",
              "      <td>0.87</td>\n",
              "      <td>0.47</td>\n",
              "      <td>0.5</td>\n",
              "    </tr>\n",
              "    <tr>\n",
              "      <th>1</th>\n",
              "      <td>H</td>\n",
              "      <td>0.07</td>\n",
              "      <td>0.47</td>\n",
              "      <td>0.5</td>\n",
              "    </tr>\n",
              "    <tr>\n",
              "      <th>2</th>\n",
              "      <td>STOP</td>\n",
              "      <td>0.06</td>\n",
              "      <td>0.06</td>\n",
              "      <td>0.0</td>\n",
              "    </tr>\n",
              "  </tbody>\n",
              "</table>\n",
              "</div>"
            ],
            "text/plain": [
              "  P(x|...)     C     H  START\n",
              "0        C  0.87  0.47    0.5\n",
              "1        H  0.07  0.47    0.5\n",
              "2     STOP  0.06  0.06    0.0"
            ]
          },
          "metadata": {
            "tags": []
          }
        },
        {
          "output_type": "stream",
          "text": [
            "\n",
            "\n",
            "Test Sequence Data\n"
          ],
          "name": "stdout"
        },
        {
          "output_type": "display_data",
          "data": {
            "text/plain": [
              "(10, 6)"
            ]
          },
          "metadata": {
            "tags": []
          }
        },
        {
          "output_type": "display_data",
          "data": {
            "text/html": [
              "<div>\n",
              "<style scoped>\n",
              "    .dataframe tbody tr th:only-of-type {\n",
              "        vertical-align: middle;\n",
              "    }\n",
              "\n",
              "    .dataframe tbody tr th {\n",
              "        vertical-align: top;\n",
              "    }\n",
              "\n",
              "    .dataframe thead th {\n",
              "        text-align: right;\n",
              "    }\n",
              "</style>\n",
              "<table border=\"1\" class=\"dataframe\">\n",
              "  <thead>\n",
              "    <tr style=\"text-align: right;\">\n",
              "      <th></th>\n",
              "      <th>SeqNumber</th>\n",
              "      <th>Obs1</th>\n",
              "      <th>Obs2</th>\n",
              "      <th>Obs3</th>\n",
              "      <th>Obs4</th>\n",
              "      <th>Obs5</th>\n",
              "    </tr>\n",
              "  </thead>\n",
              "  <tbody>\n",
              "    <tr>\n",
              "      <th>0</th>\n",
              "      <td>1</td>\n",
              "      <td>2</td>\n",
              "      <td>3</td>\n",
              "      <td>3</td>\n",
              "      <td>2</td>\n",
              "      <td>3</td>\n",
              "    </tr>\n",
              "    <tr>\n",
              "      <th>1</th>\n",
              "      <td>2</td>\n",
              "      <td>2</td>\n",
              "      <td>3</td>\n",
              "      <td>2</td>\n",
              "      <td>2</td>\n",
              "      <td>0</td>\n",
              "    </tr>\n",
              "    <tr>\n",
              "      <th>2</th>\n",
              "      <td>3</td>\n",
              "      <td>3</td>\n",
              "      <td>1</td>\n",
              "      <td>3</td>\n",
              "      <td>3</td>\n",
              "      <td>1</td>\n",
              "    </tr>\n",
              "    <tr>\n",
              "      <th>3</th>\n",
              "      <td>4</td>\n",
              "      <td>2</td>\n",
              "      <td>1</td>\n",
              "      <td>1</td>\n",
              "      <td>0</td>\n",
              "      <td>0</td>\n",
              "    </tr>\n",
              "    <tr>\n",
              "      <th>4</th>\n",
              "      <td>5</td>\n",
              "      <td>1</td>\n",
              "      <td>1</td>\n",
              "      <td>1</td>\n",
              "      <td>2</td>\n",
              "      <td>3</td>\n",
              "    </tr>\n",
              "  </tbody>\n",
              "</table>\n",
              "</div>"
            ],
            "text/plain": [
              "   SeqNumber  Obs1  Obs2  Obs3  Obs4  Obs5\n",
              "0          1     2     3     3     2     3\n",
              "1          2     2     3     2     2     0\n",
              "2          3     3     1     3     3     1\n",
              "3          4     2     1     1     0     0\n",
              "4          5     1     1     1     2     3"
            ]
          },
          "metadata": {
            "tags": []
          }
        }
      ]
    },
    {
      "cell_type": "markdown",
      "metadata": {
        "id": "g3UowFGKa471",
        "colab_type": "text"
      },
      "source": [
        "Use A and B shorthand for transition and emission probabilities respectively"
      ]
    },
    {
      "cell_type": "code",
      "metadata": {
        "id": "GUj4H60ha24w",
        "colab_type": "code",
        "colab": {
          "base_uri": "https://localhost:8080/",
          "height": 328
        },
        "outputId": "c3e881af-8d4e-4bcf-a373-0dd240004b82"
      },
      "source": [
        "# In our class notes we referred to the transition matrix as 'A'\n",
        "# and the emission/observation matrix as 'B'. So I will be doing the same.\n",
        "A = transition_dataframe.to_numpy()\n",
        "A = np.delete(A, 0, 1)  # remove extra (label) column included in the dataframe\n",
        "                        # this column included (C, H, STOP)\n",
        "B = np.array(emission_dataframe)\n",
        "B = np.delete(B, 0, 1)  # remove extra (label) column included in the dataframe\n",
        "                        # this column included (1, 2 , 3)\n",
        "\n",
        "sequences = testData_dataframe.to_numpy()\n",
        "sequences = np.delete(sequences, 0, 1)  # remove extra (label) column included in\n",
        "                                        # the df. This column inc. (1 ... n seqs)\n",
        "\n",
        "print(f'A:\\n{A}')\n",
        "print(f'B:\\n{B}')\n",
        "print(sequences)"
      ],
      "execution_count": 31,
      "outputs": [
        {
          "output_type": "stream",
          "text": [
            "A:\n",
            "[[0.87 0.47 0.5]\n",
            " [0.07 0.47 0.5]\n",
            " [0.06 0.06 0.0]]\n",
            "B:\n",
            "[[6.407e-01 2.000e-04]\n",
            " [1.481e-01 5.341e-01]\n",
            " [2.122e-01 4.657e-01]]\n",
            "[[2 3 3 2 3]\n",
            " [2 3 2 2 0]\n",
            " [3 1 3 3 1]\n",
            " [2 1 1 0 0]\n",
            " [1 1 1 2 3]\n",
            " [1 3 1 1 0]\n",
            " [3 2 3 0 0]\n",
            " [2 2 1 1 0]\n",
            " [1 3 2 3 3]\n",
            " [1 1 1 0 0]]\n"
          ],
          "name": "stdout"
        }
      ]
    },
    {
      "cell_type": "markdown",
      "metadata": {
        "id": "6vix3xe_lo0-",
        "colab_type": "text"
      },
      "source": [
        "Find most likely sequence of hidden varialbles given the obervation sequence.\n",
        "\n",
        "Below you will see outputs of the M and C-Matrix. For the C-Matrix, I incremented the values for printing so that they match the notation we used in lecture. However in my implementation, what prints as [1, 2, 1] is actually [0,  1, 0]. This is so that I can use the values in the C-matrix as indexes in the backward-phase. The same goes for the most likely sequence."
      ]
    },
    {
      "cell_type": "code",
      "metadata": {
        "id": "Tx21H77x_QnD",
        "colab_type": "code",
        "colab": {}
      },
      "source": [
        "# function to pad an array to the same length of the test sequence data (# of observations)\n",
        "def pad(arr):\n",
        "  while len(arr) != testData_dataframe.shape[1]-1:  # subract one for extra col label\n",
        "    arr = np.append(arr, 0)\n",
        "  return arr"
      ],
      "execution_count": 7,
      "outputs": []
    },
    {
      "cell_type": "code",
      "metadata": {
        "id": "8DNX3WIX9jPM",
        "colab_type": "code",
        "colab": {
          "base_uri": "https://localhost:8080/",
          "height": 1000
        },
        "outputId": "f7aee2c1-2fab-48c7-be21-e7886dc754ee"
      },
      "source": [
        "# array to store most likely sequences (Used for part 2)\n",
        "mostLikelySequences = np.zeros_like(sequences)\n",
        "for n in range(len(sequences)): \n",
        "  # remove one sequence from matrix of sequences\n",
        "  seq = sequences[n]\n",
        "  seq = seq[seq != 0] # trim the sequence of zeros, since these are not obsevations\n",
        "  print(f'Observed sequence {n+1}: {seq}\\n')\n",
        "\n",
        "  #Initialize M and C-Matricies for the correct shape given the sequence n\n",
        "  # M.shape = [sequence n length, # of hidden variables]\n",
        "  # In ice cream case, Sequence of length 3-5 with 2 possible hidden vairable values (H, C)\n",
        "  m_matrix = np.zeros((len(seq), emission_dataframe.shape[1]-1)) # trim pesky label column\n",
        "\n",
        "  # C.shape = [sequence length - 1, # hidden variables]\n",
        "  # shape of C is the same as the M-Matrix minus one row, transposed.\n",
        "  c_matrix = np.delete(m_matrix, 0, 0)\n",
        "  c_matrix = c_matrix.transpose()\n",
        "\n",
        "  seq = seq - 1 # decrement elements of seq for proper indexing\n",
        "  \n",
        "  # Do viterbi algorithm... returns the most likely sequence for the given seq\n",
        "  mls = forward(m_matrix, c_matrix)\n",
        "  # Store most likely sequences for use in part 2. (requires some manipulation)\n",
        "  mls = mls + 1 # incrememnt for proper printing before padding\n",
        "  mls = pad(mls)  # pad to give each most likely sequence a length of 5\n",
        "  mostLikelySequences[n] = mls\n",
        "\n",
        "#print(mostLikelySequences)"
      ],
      "execution_count": 32,
      "outputs": [
        {
          "output_type": "stream",
          "text": [
            "Observed sequence 1: [2 3 3 2 3]\n",
            "\n",
            "Forward phase calculations:\n",
            "M[0][0]: 0.5 * 0.1481\n",
            "M[0][1]: 0.5 * 0.5341\n",
            "M[2][1]: 0.2122 * 0.18886983289357961\n",
            "M[2][2]: 0.4657 * 0.36796687188507765\n",
            "M[3][1]: 0.2122 * 0.1649071012306746\n",
            "M[3][2]: 0.4657 * 0.3809122556569919\n",
            "M[4][1]: 0.1481 * 0.14334479886912377\n",
            "M[4][2]: 0.5341 * 0.39256085578334693\n",
            "M[5][1]: 0.2122 * 0.07999072256804153\n",
            "M[5][2]: 0.4657 * 0.4267866211414028\n",
            "M-Matrix:\n",
            "[[0.21709176 0.78290824]\n",
            " [0.18954839 0.81045161]\n",
            " [0.16476414 0.83523586]\n",
            " [0.09194336 0.90805664]\n",
            " [0.07868236 0.92131764]]\n",
            "C-Matrix (transposed):\n",
            "[[1. 2.]\n",
            " [1. 2.]\n",
            " [1. 2.]\n",
            " [1. 2.]]\n",
            "Most Likely Sequence: [2 2 2 2 2]\n",
            "___________________________________________________________\n",
            "\n",
            "Observed sequence 2: [2 3 2 2]\n",
            "\n",
            "Forward phase calculations:\n",
            "M[0][0]: 0.5 * 0.1481\n",
            "M[0][1]: 0.5 * 0.5341\n",
            "M[2][1]: 0.2122 * 0.18886983289357961\n",
            "M[2][2]: 0.4657 * 0.36796687188507765\n",
            "M[3][1]: 0.1481 * 0.1649071012306746\n",
            "M[3][2]: 0.5341 * 0.3809122556569919\n",
            "M[4][1]: 0.1481 * 0.0932460344410975\n",
            "M[4][2]: 0.5341 * 0.4196257055318209\n",
            "M-Matrix:\n",
            "[[0.21709176 0.78290824]\n",
            " [0.18954839 0.81045161]\n",
            " [0.10717935 0.89282065]\n",
            " [0.05804073 0.94195927]]\n",
            "C-Matrix (transposed):\n",
            "[[1. 2.]\n",
            " [1. 2.]\n",
            " [1. 2.]]\n",
            "Most Likely Sequence: [2 2 2 2]\n",
            "___________________________________________________________\n",
            "\n",
            "Observed sequence 3: [3 1 3 3 1]\n",
            "\n",
            "Forward phase calculations:\n",
            "M[0][0]: 0.5 * 0.2122\n",
            "M[0][1]: 0.5 * 0.4657\n",
            "M[2][1]: 0.6407 * 0.27233220238973305\n",
            "M[2][2]: 0.0002 * 0.3228780056055465\n",
            "M[3][1]: 0.2122 * 0.8696781353458062\n",
            "M[3][2]: 0.4657 * 0.4698261190948608\n",
            "M[4][1]: 0.2122 * 0.39805939632162146\n",
            "M[4][2]: 0.4657 * 0.25495641807912406\n",
            "M[5][1]: 0.6407 * 0.36164777689556454\n",
            "M[5][2]: 0.0002 * 0.2746270630564191\n",
            "M-Matrix:\n",
            "[[3.13025520e-01 6.86974480e-01]\n",
            " [9.99630041e-01 3.69959373e-04]\n",
            " [4.57539536e-01 5.42460464e-01]\n",
            " [4.15687100e-01 5.84312900e-01]\n",
            " [9.99763010e-01 2.36989917e-04]]\n",
            "C-Matrix (transposed):\n",
            "[[1. 2.]\n",
            " [1. 1.]\n",
            " [1. 2.]\n",
            " [1. 2.]]\n",
            "Most Likely Sequence: [1 1 1 1 1]\n",
            "___________________________________________________________\n",
            "\n",
            "Observed sequence 4: [2 1 1]\n",
            "\n",
            "Forward phase calculations:\n",
            "M[0][0]: 0.5 * 0.1481\n",
            "M[0][1]: 0.5 * 0.5341\n",
            "M[2][1]: 0.6407 * 0.18886983289357961\n",
            "M[2][2]: 0.0002 * 0.36796687188507765\n",
            "M[3][1]: 0.6407 * 0.8694712180687683\n",
            "M[3][2]: 0.0002 * 0.4697143361980702\n",
            "M-Matrix:\n",
            "[[2.17091762e-01 7.82908238e-01]\n",
            " [9.99392205e-01 6.07795323e-04]\n",
            " [9.99831391e-01 1.68608958e-04]]\n",
            "C-Matrix (transposed):\n",
            "[[1. 2.]\n",
            " [1. 1.]]\n",
            "Most Likely Sequence: [1 1 1]\n",
            "___________________________________________________________\n",
            "\n",
            "Observed sequence 5: [1 1 1 2 3]\n",
            "\n",
            "Forward phase calculations:\n",
            "M[0][0]: 0.5 * 0.6407\n",
            "M[0][1]: 0.5 * 0.0002\n",
            "M[2][1]: 0.6407 * 0.8697285067873304\n",
            "M[2][2]: 0.0002 * 0.46985333125292555\n",
            "M[3][1]: 0.6407 * 0.8698533102064024\n",
            "M[3][2]: 0.0002 * 0.4699207537896657\n",
            "M[4][1]: 0.1481 * 0.8698533102064026\n",
            "M[4][2]: 0.5341 * 0.46992075378966575\n",
            "M[5][1]: 0.2122 * 0.29508966130874975\n",
            "M[5][2]: 0.4657 * 0.31058374618952594\n",
            "M-Matrix:\n",
            "[[9.99687939e-01 3.12061164e-04]\n",
            " [9.99831391e-01 1.68608958e-04]\n",
            " [9.99831391e-01 1.68608958e-04]\n",
            " [3.39183519e-01 6.60816481e-01]\n",
            " [3.02127616e-01 6.97872384e-01]]\n",
            "C-Matrix (transposed):\n",
            "[[1. 1.]\n",
            " [1. 1.]\n",
            " [1. 1.]\n",
            " [1. 2.]]\n",
            "Most Likely Sequence: [1 1 1 2 2]\n",
            "___________________________________________________________\n",
            "\n",
            "Observed sequence 6: [1 3 1 1]\n",
            "\n",
            "Forward phase calculations:\n",
            "M[0][0]: 0.5 * 0.6407\n",
            "M[0][1]: 0.5 * 0.0002\n",
            "M[2][1]: 0.2122 * 0.8697285067873304\n",
            "M[2][2]: 0.4657 * 0.46985333125292555\n",
            "M[3][1]: 0.6407 * 0.3980593963216214\n",
            "M[3][2]: 0.0002 * 0.254956418079124\n",
            "M[4][1]: 0.6407 * 0.869826089513337\n",
            "M[4][2]: 0.0002 * 0.4699060483577797\n",
            "M-Matrix:\n",
            "[[9.99687939e-01 3.12061164e-04]\n",
            " [4.57539536e-01 5.42460464e-01]\n",
            " [9.99800103e-01 1.99897111e-04]\n",
            " [9.99831391e-01 1.68608958e-04]]\n",
            "C-Matrix (transposed):\n",
            "[[1. 1.]\n",
            " [1. 2.]\n",
            " [1. 1.]]\n",
            "Most Likely Sequence: [1 1 1 1]\n",
            "___________________________________________________________\n",
            "\n",
            "Observed sequence 7: [3 2 3]\n",
            "\n",
            "Forward phase calculations:\n",
            "M[0][0]: 0.5 * 0.2122\n",
            "M[0][1]: 0.5 * 0.4657\n",
            "M[2][1]: 0.1481 * 0.27233220238973305\n",
            "M[2][2]: 0.5341 * 0.3228780056055465\n",
            "M[3][1]: 0.2122 * 0.1649071012306746\n",
            "M[3][2]: 0.4657 * 0.3809122556569918\n",
            "M-Matrix:\n",
            "[[0.31302552 0.68697448]\n",
            " [0.18954839 0.81045161]\n",
            " [0.16476414 0.83523586]]\n",
            "C-Matrix (transposed):\n",
            "[[1. 2.]\n",
            " [1. 2.]]\n",
            "Most Likely Sequence: [2 2 2]\n",
            "___________________________________________________________\n",
            "\n",
            "Observed sequence 8: [2 2 1 1]\n",
            "\n",
            "Forward phase calculations:\n",
            "M[0][0]: 0.5 * 0.1481\n",
            "M[0][1]: 0.5 * 0.5341\n",
            "M[2][1]: 0.1481 * 0.18886983289357961\n",
            "M[2][2]: 0.5341 * 0.36796687188507765\n",
            "M[3][1]: 0.6407 * 0.10839650599654164\n",
            "M[3][2]: 0.0002 * 0.41144096802485675\n",
            "M[4][1]: 0.6407 * 0.8689703905980605\n",
            "M[4][2]: 0.0002 * 0.4694437742311361\n",
            "M-Matrix:\n",
            "[[2.17091762e-01 7.82908238e-01]\n",
            " [1.24593685e-01 8.75406315e-01]\n",
            " [9.98816541e-01 1.18345908e-03]\n",
            " [9.99831391e-01 1.68608958e-04]]\n",
            "C-Matrix (transposed):\n",
            "[[1. 2.]\n",
            " [1. 2.]\n",
            " [1. 1.]]\n",
            "Most Likely Sequence: [1 1 1 1]\n",
            "___________________________________________________________\n",
            "\n",
            "Observed sequence 9: [1 3 2 3 3]\n",
            "\n",
            "Forward phase calculations:\n",
            "M[0][0]: 0.5 * 0.6407\n",
            "M[0][1]: 0.5 * 0.0002\n",
            "M[2][1]: 0.2122 * 0.8697285067873304\n",
            "M[2][2]: 0.4657 * 0.46985333125292555\n",
            "M[3][1]: 0.1481 * 0.3980593963216214\n",
            "M[3][2]: 0.5341 * 0.254956418079124\n",
            "M[4][1]: 0.2122 * 0.2628510261870648\n",
            "M[4][2]: 0.4657 * 0.32800002033572356\n",
            "M[5][1]: 0.2122 * 0.23270882464752277\n",
            "M[5][2]: 0.4657 * 0.3442837384088095\n",
            "M-Matrix:\n",
            "[[9.99687939e-01 3.12061164e-04]\n",
            " [4.57539536e-01 5.42460464e-01]\n",
            " [3.02127616e-01 6.97872384e-01]\n",
            " [2.67481408e-01 7.32518592e-01]\n",
            " [2.35467692e-01 7.64532308e-01]]\n",
            "C-Matrix (transposed):\n",
            "[[1. 1.]\n",
            " [1. 2.]\n",
            " [1. 2.]\n",
            " [1. 2.]]\n",
            "Most Likely Sequence: [1 2 2 2 2]\n",
            "___________________________________________________________\n",
            "\n",
            "Observed sequence 10: [1 1 1]\n",
            "\n",
            "Forward phase calculations:\n",
            "M[0][0]: 0.5 * 0.6407\n",
            "M[0][1]: 0.5 * 0.0002\n",
            "M[2][1]: 0.6407 * 0.8697285067873304\n",
            "M[2][2]: 0.0002 * 0.46985333125292555\n",
            "M[3][1]: 0.6407 * 0.8698533102064024\n",
            "M[3][2]: 0.0002 * 0.4699207537896657\n",
            "M-Matrix:\n",
            "[[9.99687939e-01 3.12061164e-04]\n",
            " [9.99831391e-01 1.68608958e-04]\n",
            " [9.99831391e-01 1.68608958e-04]]\n",
            "C-Matrix (transposed):\n",
            "[[1. 1.]\n",
            " [1. 1.]]\n",
            "Most Likely Sequence: [1 1 1]\n",
            "___________________________________________________________\n",
            "\n"
          ],
          "name": "stdout"
        }
      ]
    },
    {
      "cell_type": "markdown",
      "metadata": {
        "id": "dizNxgHXsEwo",
        "colab_type": "text"
      },
      "source": [
        "**Viterbi Algorithm**"
      ]
    },
    {
      "cell_type": "markdown",
      "metadata": {
        "id": "Pw70OjvZd6d9",
        "colab_type": "text"
      },
      "source": [
        "Forward Phase: Calculate values for the M-Matrix. One step at a time. Starting at first state and moving forward. Filling in the C-Marix as we go.\n",
        "\n",
        "Choose value for last state by maximizing value of hidden state. I print some of the more important calculations out so that it is clear what is going on."
      ]
    },
    {
      "cell_type": "code",
      "metadata": {
        "id": "1YxmzFUfd6Je",
        "colab_type": "code",
        "colab": {}
      },
      "source": [
        "def forward(m_matrix, c_matrix):\n",
        "  # use priors to set first row of M matrix\n",
        "  print(\"Forward phase calculations:\")\n",
        "  for i in range(B.shape[1]):\n",
        "    m_matrix[0,i] = A[i,A.shape[1]-1] * B[seq[0], i]\n",
        "    print(f'M[0][{i}]: {A[i,A.shape[1]-1]} * {B[seq[0], i]}')\n",
        "\n",
        "  normalizeRow(m_matrix, 0); # normalize each row as we calculate it to prevent underflow\n",
        "  vect = np.zeros(3)\n",
        "  for s in range(1, len(seq)): # each element (besides first) of the sequence\n",
        "    for k in range(B.shape[1]): # k = weather today\n",
        "      for j in range(B.shape[1]): # j = weather yesterday\n",
        "        # Store the hypothetical probabilities of yesterdays weather to be compared\n",
        "        vect[j] = (A[j][k] * m_matrix[s-1][j])\n",
        "      # maximize probability\n",
        "      max = np.max(vect)\n",
        "      print(f'M[{s+1}][{k+1}]: {B[seq[s], k]} * {max}')\n",
        "      # store 'magic' value in M-Matrix.\n",
        "      m_matrix[s][k] = B[seq[s], k] * max\n",
        "      # store our (numerical) weather choice  in C\n",
        "      c = np.where(vect == max)\n",
        "      c_matrix[k][s-1]=c[0][0]\n",
        "    normalizeRow(m_matrix, s) # normalize each row as we calculate it to prevent underflow\n",
        "\n",
        "  c_matrix_print = c_matrix + 1 # increment C Matrix for proper printing\n",
        "  print(f'M-Matrix:\\n{m_matrix}')\n",
        "  print(f'C-Matrix (transposed):\\n{c_matrix_print.transpose()}')  # Un-Transpose C matrix for printing\n",
        "  # convert C-Matrix to int so we can use its values as indexes\n",
        "  c_matrix = c_matrix.astype(int)\n",
        "  # Start backward phase of viterbi algorithm after forward is complete\n",
        "  MLS = backward(m_matrix, c_matrix)\n",
        "  return MLS"
      ],
      "execution_count": 8,
      "outputs": []
    },
    {
      "cell_type": "markdown",
      "metadata": {
        "id": "SHekFRaHgxQ7",
        "colab_type": "text"
      },
      "source": [
        "**Backward Phase**: Use final row of M-matrix to find final member of the most likely sequence. From this, us C-Matrix to work backwards and find what the values of the preceding hidden states should be."
      ]
    },
    {
      "cell_type": "code",
      "metadata": {
        "id": "uAFuMiTPFBAu",
        "colab_type": "code",
        "colab": {}
      },
      "source": [
        "def backward(m_matrix, c_matrix):\n",
        "  MLS = np.zeros_like(seq)  # intialize Most Likely Sequence (same length as test sequence)\n",
        "  # use M-Matrix to find the value of final hidden variable\n",
        "  last_row = m_matrix[len(seq)-1]\n",
        "  m_max = np.max(last_row)\n",
        "  last_hidden = np.where(last_row == m_max)\n",
        "  MLS[len(seq)-1] = last_hidden[0][0]\n",
        "\n",
        "  # use the C matrix to find the value of the remaining hidden variables\n",
        "  for i in range(len(seq) - 2, -1, -1):\n",
        "    x = c_matrix[MLS[i+1]][i]\n",
        "    MLS[i] = x\n",
        "  MLS_print = MLS + 1\n",
        "  print(f'Most Likely Sequence: {MLS_print}')\n",
        "  print('___________________________________________________________\\n')\n",
        "  return MLS"
      ],
      "execution_count": 9,
      "outputs": []
    },
    {
      "cell_type": "code",
      "metadata": {
        "id": "ELqH5rYvIyqO",
        "colab_type": "code",
        "colab": {}
      },
      "source": [
        "# function to normalize a specific row in a matrix\n",
        "def normalizeRow(m, i):\n",
        "  # Normalize each row in M-Matrix (each obseervation) to prevent underflow\n",
        "  norm_m = m  #python uses pass by reference so this will change m\n",
        "  row = m[i]\n",
        "  row = row / np.sum(row)\n",
        "  norm_m[i] = row\n"
      ],
      "execution_count": 10,
      "outputs": []
    },
    {
      "cell_type": "markdown",
      "metadata": {
        "id": "I8Sa9nxdihhB",
        "colab_type": "text"
      },
      "source": [
        "**Part 2 (50 points)**: Using the same network, implement a likelihood samples for approximate inference. For any test sequence, sample complete sequences of the hidden states *n* times, where *n* can range from 10 to 100,000 samples. The goal is to approximate the likelihood of *all possible* sequences.\n",
        "\n",
        "Assuming the Viterbi sequence is \"correct\", how long (how many samples) does it take the sampler to converge so that the (estimated) most likely sample you get matches the Viterbi sequence?\n",
        "\n",
        "---\n",
        "---\n"
      ]
    },
    {
      "cell_type": "markdown",
      "metadata": {
        "id": "--XPVYf46r9b",
        "colab_type": "text"
      },
      "source": [
        "Diregard STOP probabilities and normalize remaining transition probabilities"
      ]
    },
    {
      "cell_type": "code",
      "metadata": {
        "id": "h3K0KFOvi9vd",
        "colab_type": "code",
        "colab": {
          "base_uri": "https://localhost:8080/",
          "height": 138
        },
        "outputId": "176b3324-8567-435a-c290-609856cc2614"
      },
      "source": [
        "#remove STOP probabilities (bottom row)\n",
        "transitionProbs = np.delete(A, A.shape[0]-1, 0)\n",
        "#remove and store START priors (right-most column)\n",
        "priors = transitionProbs[:,A.shape[1]-1]\n",
        "transitionProbs = np.delete(transitionProbs, transitionProbs.shape[1]-1, 1)\n",
        "#normalize across columns\n",
        "normalizeCol(transitionProbs, 0)\n",
        "normalizeCol(transitionProbs, 1)\n",
        "print(f'transitionProbs:\\n{transitionProbs}')\n",
        "print(f'B (Emission Probabilities):\\n{B}')"
      ],
      "execution_count": 17,
      "outputs": [
        {
          "output_type": "stream",
          "text": [
            "transitionProbs:\n",
            "[[0.9255319148936171 0.5]\n",
            " [0.07446808510638299 0.5]]\n",
            "B (Emission Probabilities):\n",
            "[[6.407e-01 2.000e-04]\n",
            " [1.481e-01 5.341e-01]\n",
            " [2.122e-01 4.657e-01]]\n"
          ],
          "name": "stdout"
        }
      ]
    },
    {
      "cell_type": "code",
      "metadata": {
        "id": "pRhxy26AlObA",
        "colab_type": "code",
        "colab": {}
      },
      "source": [
        "# function to normalize a column in a matrix\n",
        "def normalizeCol(m, i):\n",
        "  # Normalize each row in M-Matrix (each obseervation) to prevent underflow\n",
        "  norm_m = m  #python uses pass by reference so this will change m\n",
        "  col = m[:,i]\n",
        "  col = col / np.sum(col)\n",
        "  norm_m[:,i] = col\n"
      ],
      "execution_count": 14,
      "outputs": []
    },
    {
      "cell_type": "markdown",
      "metadata": {
        "id": "w-yAKlzW97xU",
        "colab_type": "text"
      },
      "source": [
        "Approximae inference by likelihood waiting. Sample each hidden state a number of times."
      ]
    },
    {
      "cell_type": "code",
      "metadata": {
        "id": "v8z6jWKc97Yn",
        "colab_type": "code",
        "colab": {
          "base_uri": "https://localhost:8080/",
          "height": 1000
        },
        "outputId": "273c7d70-3817-41e6-d18c-c5fb0cb5f7bc"
      },
      "source": [
        "for n in range(len(sequences)):\n",
        "  # retreive and manipulate testData sequences\n",
        "  seqt = sequences[n]\n",
        "  seqt = seqt[seqt != 0]\n",
        "  print(f'Observed sequence {n+1}: {seqt}')\n",
        "  seqt = seqt - 1 # for indexing\n",
        "\n",
        "  # retreive and manipulate most likely sequences from part 1\n",
        "  mls_viterbi = mostLikelySequences[n]\n",
        "  mls_viterbi = mls_viterbi[mls_viterbi != 0]\n",
        "  mls_viterbi = mls_viterbi - 1 # for consistency of indexing\n",
        "  # initialize sample sequence with same number of zeros as test seq\n",
        "  sampseq = np.zeros_like(seqt)\n",
        "  mlsw = np.zeros_like(seqt)\n",
        "  bestweight = 0\n",
        "  its = 0\n",
        "  for i in range(100000):\n",
        "    weight = weightedInference(seqt, sampseq)\n",
        "    # keep track of most likely (highest weighted) sample sequence generated\n",
        "    if weight > bestweight:\n",
        "      # print(f'new best[{i}]: {sampseq + 1} weight: {weight}')\n",
        "      mlsw = np.copy(sampseq)\n",
        "      bestweight = weight\n",
        "    sampseq_print = sampseq + 1\n",
        "    its = i\n",
        "    # compare to known most likely sequence, break if equal\n",
        "    if i > 9:\n",
        "      if np.array_equal(mlsw, mls_viterbi):\n",
        "        its = i\n",
        "        break\n",
        "      \n",
        "  print()\n",
        "  if (its == 99999):\n",
        "    print(f'After {its + 1} iteration(s), the sampled sequence did not converge to match the Viterbi sequence.')\n",
        "    print(\"Instead, it converged to the following:\")\n",
        "  else:\n",
        "    print(f'Sampled sequence converged to match Viterbi sequence after {its} iteration(s)')\n",
        "  mlsw_print = mlsw + 1 # for printing\n",
        "  print(f'Most Likely Weighted Sample Sequence: {mlsw_print}')\n",
        "  print(f'Viterbi sequence {n+1} (for reference): {mls_viterbi + 1}')\n",
        "  print(f'Highest Weight: {bestweight}\\n')\n",
        "  print(\"_________________________________\")\n",
        "  "
      ],
      "execution_count": 54,
      "outputs": [
        {
          "output_type": "stream",
          "text": [
            "Observed sequence 1: [2 3 3 2 3]\n",
            "\n",
            "Sampled sequence converged to match Viterbi sequence after 10 iteration(s)\n",
            "Most Likely Weighted Sample Sequence: [2 2 2 2 2]\n",
            "Viterbi sequence 1 (for reference): [2 2 2 2 2]\n",
            "Highest Weight: 0.028811367344428896\n",
            "\n",
            "_________________________________\n",
            "Observed sequence 2: [2 3 2 2]\n",
            "\n",
            "Sampled sequence converged to match Viterbi sequence after 10 iteration(s)\n",
            "Most Likely Weighted Sample Sequence: [2 2 2 2]\n",
            "Viterbi sequence 2 (for reference): [2 2 2 2]\n",
            "Highest Weight: 0.07095352427853971\n",
            "\n",
            "_________________________________\n",
            "Observed sequence 3: [3 1 3 3 1]\n",
            "\n",
            "Sampled sequence converged to match Viterbi sequence after 10 iteration(s)\n",
            "Most Likely Weighted Sample Sequence: [1 1 1 1 1]\n",
            "Viterbi sequence 3 (for reference): [1 1 1 1 1]\n",
            "Highest Weight: 0.003922343159133334\n",
            "\n",
            "_________________________________\n",
            "Observed sequence 4: [2 1 1]\n",
            "\n",
            "Sampled sequence converged to match Viterbi sequence after 10 iteration(s)\n",
            "Most Likely Weighted Sample Sequence: [1 1 1]\n",
            "Viterbi sequence 4 (for reference): [1 1 1]\n",
            "Highest Weight: 0.06079453016900001\n",
            "\n",
            "_________________________________\n",
            "Observed sequence 5: [1 1 1 2 3]\n",
            "\n",
            "Sampled sequence converged to match Viterbi sequence after 73 iteration(s)\n",
            "Most Likely Weighted Sample Sequence: [1 1 1 2 2]\n",
            "Viterbi sequence 5 (for reference): [1 1 1 2 2]\n",
            "Highest Weight: 0.06541735611918584\n",
            "\n",
            "_________________________________\n",
            "Observed sequence 6: [1 3 1 1]\n",
            "\n",
            "Sampled sequence converged to match Viterbi sequence after 10 iteration(s)\n",
            "Most Likely Weighted Sample Sequence: [1 1 1 1]\n",
            "Viterbi sequence 6 (for reference): [1 1 1 1]\n",
            "Highest Weight: 0.05580968246254461\n",
            "\n",
            "_________________________________\n",
            "Observed sequence 7: [3 2 3]\n",
            "\n",
            "Sampled sequence converged to match Viterbi sequence after 10 iteration(s)\n",
            "Most Likely Weighted Sample Sequence: [2 2 2]\n",
            "Viterbi sequence 7 (for reference): [2 2 2]\n",
            "Highest Weight: 0.115833733309\n",
            "\n",
            "_________________________________\n",
            "Observed sequence 8: [2 2 1 1]\n",
            "\n",
            "After 100000 iteration(s), the sampled sequence did not converge to match the Viterbi sequence.\n",
            "Instead, it converged to the following:\n",
            "Most Likely Weighted Sample Sequence: [2 2 1 1]\n",
            "Viterbi sequence 8 (for reference): [1 1 1 1]\n",
            "Highest Weight: 0.11709938223253694\n",
            "\n",
            "_________________________________\n",
            "Observed sequence 9: [1 3 2 3 3]\n",
            "\n",
            "Sampled sequence converged to match Viterbi sequence after 46 iteration(s)\n",
            "Most Likely Weighted Sample Sequence: [1 2 2 2 2]\n",
            "Viterbi sequence 9 (for reference): [1 2 2 2 2]\n",
            "Highest Weight: 0.034561773184002234\n",
            "\n",
            "_________________________________\n",
            "Observed sequence 10: [1 1 1]\n",
            "\n",
            "Sampled sequence converged to match Viterbi sequence after 10 iteration(s)\n",
            "Most Likely Weighted Sample Sequence: [1 1 1]\n",
            "Viterbi sequence 10 (for reference): [1 1 1]\n",
            "Highest Weight: 0.2630051011430001\n",
            "\n",
            "_________________________________\n"
          ],
          "name": "stdout"
        }
      ]
    },
    {
      "cell_type": "code",
      "metadata": {
        "id": "Qhwae7Kl-2Xd",
        "colab_type": "code",
        "colab": {}
      },
      "source": [
        "def weightedInference(seqt, sampseq): # NOTE: (for calulation) 0 = C, 1 = H\n",
        "  # sample first hidden state using priors\n",
        "  x = rdm.random()\n",
        "  if x < 0.5: sampseq[0] = 0\n",
        "  else: sampseq[0] = 1\n",
        "  weight = B[seqt[0]][sampseq[0]]\n",
        "\n",
        "  # sample remaining states using transition probabilities\n",
        "  for i in range(1, len(seqt)):\n",
        "    x = rdm.random()\n",
        "    if x < transitionProbs[sampseq[i-1], 0]: sampseq[i] = 0\n",
        "    else: sampseq[i] = 1\n",
        "\n",
        "    weight *= B[seqt[i]][sampseq[i]]\n",
        "  \n",
        "  return weight"
      ],
      "execution_count": 52,
      "outputs": []
    },
    {
      "cell_type": "markdown",
      "metadata": {
        "id": "2TzcM-DIZzrO",
        "colab_type": "text"
      },
      "source": [
        "**Bonus (25 Points):** Implement the Forward-Backward algorithm. Test the algorithm on the Elnser dataset for both 2 hidden states (hot, cold) and 3 hidden states (hot, warm, cold). Report on the differences that you see.\n",
        "\n",
        "---\n",
        "---"
      ]
    },
    {
      "cell_type": "code",
      "metadata": {
        "id": "GQbNbbgUaFtz",
        "colab_type": "code",
        "colab": {}
      },
      "source": [
        ""
      ],
      "execution_count": null,
      "outputs": []
    }
  ]
}