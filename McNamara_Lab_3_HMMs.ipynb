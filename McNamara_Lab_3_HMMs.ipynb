{
  "nbformat": 4,
  "nbformat_minor": 0,
  "metadata": {
    "colab": {
      "name": "McNamara Lab #3: HMMs.ipynb",
      "provenance": [],
      "collapsed_sections": [],
      "authorship_tag": "ABX9TyMRpzPUf0fEL6BCPJzQpRD8",
      "include_colab_link": true
    },
    "kernelspec": {
      "name": "python3",
      "display_name": "Python 3"
    }
  },
  "cells": [
    {
      "cell_type": "markdown",
      "metadata": {
        "id": "view-in-github",
        "colab_type": "text"
      },
      "source": [
        "<a href=\"https://colab.research.google.com/github/LiamAMcNamara/HMMs-Lab3/blob/master/McNamara_Lab_3_HMMs.ipynb\" target=\"_parent\"><img src=\"https://colab.research.google.com/assets/colab-badge.svg\" alt=\"Open In Colab\"/></a>"
      ]
    },
    {
      "cell_type": "markdown",
      "metadata": {
        "id": "wYIP12YMSjxe",
        "colab_type": "text"
      },
      "source": [
        "**CSE 5522 Lab #3: Hidden Markov Models**\n",
        "\n",
        "Liam McNamara.308\n",
        "\n",
        "June 11, 2020\n",
        "\n",
        "---\n",
        "---"
      ]
    },
    {
      "cell_type": "markdown",
      "metadata": {
        "id": "M-wKlc8eIZzV",
        "colab_type": "text"
      },
      "source": [
        "**Part 1 (50 Points):** Implement the Viterbi Algorithm for HMMs for Eisner's Ice Cream Problem (predict whether each day is hot or cold based on the number of ice creams eaten). See elsner.hmm.xls for a bit more discussion on the problem. Remeber that the Viterbi algorithm computes the most likely sequence for an input.\n",
        "\n",
        "Your solution should be able to handle variable length sequences (in the range of 3-5).\n",
        "\n",
        "There are 3 files provided for you that have observation/emission probabilities, transition probabilities, and test sequence data (for evaluation), respectively.\n",
        "\n",
        "Please read the probabilities and observations from their Carmen URLs, *do not hard-code the values*. Refer back to lab 2 for exampes of working with CSV files and how to download them from URLs.\n",
        "\n",
        "The observation and transition probabilities have rows being the variable of interest, and columns being the conditioning variables. For example, P(2|H) is in the 3rd row (including header), 3rd column (including row label). The columns sum up to 1.\n",
        "\n",
        "The test data has one line per sequence. When a sequence is less than five observations long, the last  columns are filled with zeros.\n",
        "\n"
      ]
    },
    {
      "cell_type": "markdown",
      "metadata": {
        "id": "Syd8WluUS8gJ",
        "colab_type": "text"
      },
      "source": [
        "Set up the environment"
      ]
    },
    {
      "cell_type": "code",
      "metadata": {
        "id": "eFbCF14o8X33",
        "colab_type": "code",
        "colab": {}
      },
      "source": [
        "import matplotlib.pyplot as plt\n",
        "import pandas as pd\n",
        "import numpy as np"
      ],
      "execution_count": 72,
      "outputs": []
    },
    {
      "cell_type": "markdown",
      "metadata": {
        "id": "GaV1tRaKTHf1",
        "colab_type": "text"
      },
      "source": [
        "Read in the provided data from Carmen URL"
      ]
    },
    {
      "cell_type": "code",
      "metadata": {
        "id": "j1ibBmZtU1vX",
        "colab_type": "code",
        "colab": {}
      },
      "source": [
        "emissionURL = 'http://web.cse.ohio-state.edu/~barker.348/cse5522/lab3/observationProbs.csv'\n",
        "emission_dataframe = pd.read_csv(emissionURL)\n",
        "transitionURL = 'http://web.cse.ohio-state.edu/~barker.348/cse5522/lab3/transitionProbs.csv'\n",
        "transition_dataframe = pd.read_csv(transitionURL)\n",
        "testDataURL = 'http://web.cse.ohio-state.edu/~barker.348/cse5522/lab3/testData.csv'\n",
        "testData_dataframe = pd.read_csv(testDataURL)"
      ],
      "execution_count": 151,
      "outputs": []
    },
    {
      "cell_type": "code",
      "metadata": {
        "id": "g3jtVSmzB8T4",
        "colab_type": "code",
        "colab": {}
      },
      "source": [
        "\n",
        "emissionURL = 'https://raw.githubusercontent.com/LiamAMcNamara/HMMs-Lab3/master/observationProbsLecture.csv'\n",
        "emission_dataframe = pd.read_csv(emissionURL)\n",
        "transitionURL = 'https://raw.githubusercontent.com/LiamAMcNamara/HMMs-Lab3/master/transitionProbsLecture.csv'\n",
        "transition_dataframe = pd.read_csv(transitionURL)\n",
        "testDataURL = 'https://raw.githubusercontent.com/LiamAMcNamara/HMMs-Lab3/master/testDataLecture.csv'\n",
        "testData_dataframe = pd.read_csv(testDataURL)"
      ],
      "execution_count": 167,
      "outputs": []
    },
    {
      "cell_type": "markdown",
      "metadata": {
        "id": "U1FAs5XtVqnd",
        "colab_type": "text"
      },
      "source": [
        "Print out the top of the dataframes to make sure the data loaded correctly. The data tables should have the following format:\n",
        "\n",
        "Emission Probabilities [3, 3]: 3 columns (P(x|...), C, H), and 3 rows corresponding the the number of ice creams\n",
        "\n",
        "Transition Probabilities [3, 4]: 4 columns (P(x|...), C, H, START), and 3 rows (C, H, STOP)\n",
        "\n",
        "Test Sequence Data [10, 6]: 6 columns (SeqNumber, Obs1...5), and 10 rows corresponing the the sequence sample number.\n",
        "\n",
        "Note: The test data has one line per sequence. When a sequence is less than five observations long, the last columns are filled with zeros."
      ]
    },
    {
      "cell_type": "code",
      "metadata": {
        "id": "ImUuqM6DV2Cq",
        "colab_type": "code",
        "colab": {
          "base_uri": "https://localhost:8080/",
          "height": 523
        },
        "outputId": "1fb320df-f0d4-4e7a-a6ba-bc21ece7f623"
      },
      "source": [
        "print(\"Emission Probabilities\")\n",
        "display(emission_dataframe.shape)\n",
        "display(emission_dataframe.head())\n",
        "print('\\n')\n",
        "print(\"Transition Probabilities\")\n",
        "display(transition_dataframe.shape)\n",
        "display(transition_dataframe.head())\n",
        "print('\\n')\n",
        "print(\"Test Sequence Data\")\n",
        "display(testData_dataframe.shape)\n",
        "display(testData_dataframe.head())"
      ],
      "execution_count": 168,
      "outputs": [
        {
          "output_type": "stream",
          "text": [
            "Emission Probabilities\n"
          ],
          "name": "stdout"
        },
        {
          "output_type": "display_data",
          "data": {
            "text/plain": [
              "(2, 4)"
            ]
          },
          "metadata": {
            "tags": []
          }
        },
        {
          "output_type": "display_data",
          "data": {
            "text/html": [
              "<div>\n",
              "<style scoped>\n",
              "    .dataframe tbody tr th:only-of-type {\n",
              "        vertical-align: middle;\n",
              "    }\n",
              "\n",
              "    .dataframe tbody tr th {\n",
              "        vertical-align: top;\n",
              "    }\n",
              "\n",
              "    .dataframe thead th {\n",
              "        text-align: right;\n",
              "    }\n",
              "</style>\n",
              "<table border=\"1\" class=\"dataframe\">\n",
              "  <thead>\n",
              "    <tr style=\"text-align: right;\">\n",
              "      <th></th>\n",
              "      <th>P(x|...)</th>\n",
              "      <th>Sunny</th>\n",
              "      <th>Rainy</th>\n",
              "      <th>Foogy</th>\n",
              "    </tr>\n",
              "  </thead>\n",
              "  <tbody>\n",
              "    <tr>\n",
              "      <th>0</th>\n",
              "      <td>No Umb.</td>\n",
              "      <td>0.9</td>\n",
              "      <td>0.2</td>\n",
              "      <td>0.7</td>\n",
              "    </tr>\n",
              "    <tr>\n",
              "      <th>1</th>\n",
              "      <td>Umbrella</td>\n",
              "      <td>0.1</td>\n",
              "      <td>0.8</td>\n",
              "      <td>0.3</td>\n",
              "    </tr>\n",
              "  </tbody>\n",
              "</table>\n",
              "</div>"
            ],
            "text/plain": [
              "   P(x|...)  Sunny  Rainy  Foogy\n",
              "0   No Umb.    0.9    0.2    0.7\n",
              "1  Umbrella    0.1    0.8    0.3"
            ]
          },
          "metadata": {
            "tags": []
          }
        },
        {
          "output_type": "stream",
          "text": [
            "\n",
            "\n",
            "Transition Probabilities\n"
          ],
          "name": "stdout"
        },
        {
          "output_type": "display_data",
          "data": {
            "text/plain": [
              "(4, 5)"
            ]
          },
          "metadata": {
            "tags": []
          }
        },
        {
          "output_type": "display_data",
          "data": {
            "text/html": [
              "<div>\n",
              "<style scoped>\n",
              "    .dataframe tbody tr th:only-of-type {\n",
              "        vertical-align: middle;\n",
              "    }\n",
              "\n",
              "    .dataframe tbody tr th {\n",
              "        vertical-align: top;\n",
              "    }\n",
              "\n",
              "    .dataframe thead th {\n",
              "        text-align: right;\n",
              "    }\n",
              "</style>\n",
              "<table border=\"1\" class=\"dataframe\">\n",
              "  <thead>\n",
              "    <tr style=\"text-align: right;\">\n",
              "      <th></th>\n",
              "      <th>P(x|...)</th>\n",
              "      <th>Sunny</th>\n",
              "      <th>Rainy</th>\n",
              "      <th>Foggy</th>\n",
              "      <th>START</th>\n",
              "    </tr>\n",
              "  </thead>\n",
              "  <tbody>\n",
              "    <tr>\n",
              "      <th>0</th>\n",
              "      <td>Sunny</td>\n",
              "      <td>0.8</td>\n",
              "      <td>0.05</td>\n",
              "      <td>0.15</td>\n",
              "      <td>0.40</td>\n",
              "    </tr>\n",
              "    <tr>\n",
              "      <th>1</th>\n",
              "      <td>Rainy</td>\n",
              "      <td>0.2</td>\n",
              "      <td>0.60</td>\n",
              "      <td>0.20</td>\n",
              "      <td>0.32</td>\n",
              "    </tr>\n",
              "    <tr>\n",
              "      <th>2</th>\n",
              "      <td>Foggy</td>\n",
              "      <td>0.2</td>\n",
              "      <td>0.30</td>\n",
              "      <td>0.50</td>\n",
              "      <td>0.28</td>\n",
              "    </tr>\n",
              "    <tr>\n",
              "      <th>3</th>\n",
              "      <td>STOP</td>\n",
              "      <td>1.0</td>\n",
              "      <td>1.00</td>\n",
              "      <td>1.00</td>\n",
              "      <td>0.00</td>\n",
              "    </tr>\n",
              "  </tbody>\n",
              "</table>\n",
              "</div>"
            ],
            "text/plain": [
              "  P(x|...)  Sunny  Rainy  Foggy  START\n",
              "0    Sunny    0.8   0.05   0.15   0.40\n",
              "1    Rainy    0.2   0.60   0.20   0.32\n",
              "2    Foggy    0.2   0.30   0.50   0.28\n",
              "3     STOP    1.0   1.00   1.00   0.00"
            ]
          },
          "metadata": {
            "tags": []
          }
        },
        {
          "output_type": "stream",
          "text": [
            "\n",
            "\n",
            "Test Sequence Data\n"
          ],
          "name": "stdout"
        },
        {
          "output_type": "display_data",
          "data": {
            "text/plain": [
              "(2, 6)"
            ]
          },
          "metadata": {
            "tags": []
          }
        },
        {
          "output_type": "display_data",
          "data": {
            "text/html": [
              "<div>\n",
              "<style scoped>\n",
              "    .dataframe tbody tr th:only-of-type {\n",
              "        vertical-align: middle;\n",
              "    }\n",
              "\n",
              "    .dataframe tbody tr th {\n",
              "        vertical-align: top;\n",
              "    }\n",
              "\n",
              "    .dataframe thead th {\n",
              "        text-align: right;\n",
              "    }\n",
              "</style>\n",
              "<table border=\"1\" class=\"dataframe\">\n",
              "  <thead>\n",
              "    <tr style=\"text-align: right;\">\n",
              "      <th></th>\n",
              "      <th>SeqNumber</th>\n",
              "      <th>Obs1</th>\n",
              "      <th>Obs2</th>\n",
              "      <th>Obs3</th>\n",
              "      <th>Obs4</th>\n",
              "      <th>Obs5</th>\n",
              "    </tr>\n",
              "  </thead>\n",
              "  <tbody>\n",
              "    <tr>\n",
              "      <th>0</th>\n",
              "      <td>first</td>\n",
              "      <td>1</td>\n",
              "      <td>1</td>\n",
              "      <td>1</td>\n",
              "      <td>2</td>\n",
              "      <td>2</td>\n",
              "    </tr>\n",
              "    <tr>\n",
              "      <th>1</th>\n",
              "      <td>secone</td>\n",
              "      <td>2</td>\n",
              "      <td>1</td>\n",
              "      <td>2</td>\n",
              "      <td>0</td>\n",
              "      <td>0</td>\n",
              "    </tr>\n",
              "  </tbody>\n",
              "</table>\n",
              "</div>"
            ],
            "text/plain": [
              "  SeqNumber  Obs1  Obs2  Obs3  Obs4  Obs5\n",
              "0     first     1     1     1     2     2\n",
              "1    secone     2     1     2     0     0"
            ]
          },
          "metadata": {
            "tags": []
          }
        }
      ]
    },
    {
      "cell_type": "markdown",
      "metadata": {
        "id": "g3UowFGKa471",
        "colab_type": "text"
      },
      "source": [
        "Initialize matrix variables and shorthand for emission and transition arrays"
      ]
    },
    {
      "cell_type": "code",
      "metadata": {
        "id": "GUj4H60ha24w",
        "colab_type": "code",
        "colab": {
          "base_uri": "https://localhost:8080/",
          "height": 121
        },
        "outputId": "46ff79da-c6ad-40e3-db5f-5802794f23f5"
      },
      "source": [
        "# In our class notes we referred to the transition matrix as 'A'\n",
        "# and the emission/observation matrix as 'B'. So I will be doing the same.\n",
        "A = transition_dataframe.to_numpy()\n",
        "A = np.delete(A, 0, 1)  # remove extra (label) column included in the dataframe\n",
        "                        # this column included (C, H, STOP)\n",
        "B = np.array(emission_dataframe)\n",
        "B = np.delete(B, 0, 1)  # remove extra (label) column included in the dataframe\n",
        "                        # this column included (1, 2 , 3)\n",
        "\n",
        "sequences = testData_dataframe.to_numpy()\n",
        "sequences = np.delete(sequences, 0, 1)  # remove extra (label) column included in\n",
        "                                        # the df. This column inc. (1 ... n seqs)\n",
        "\n",
        "print(A)\n",
        "print(B)"
      ],
      "execution_count": 169,
      "outputs": [
        {
          "output_type": "stream",
          "text": [
            "[[0.8 0.05 0.15 0.4]\n",
            " [0.2 0.6 0.2 0.32]\n",
            " [0.2 0.3 0.5 0.28]\n",
            " [1.0 1.0 1.0 0.0]]\n",
            "[[0.9 0.2 0.7]\n",
            " [0.1 0.8 0.3]]\n"
          ],
          "name": "stdout"
        }
      ]
    },
    {
      "cell_type": "code",
      "metadata": {
        "id": "8DNX3WIX9jPM",
        "colab_type": "code",
        "colab": {
          "base_uri": "https://localhost:8080/",
          "height": 950
        },
        "outputId": "7db2f019-5d73-4db8-a54f-267b07841672"
      },
      "source": [
        "for n in range(len(sequences)): #len(sequences)\n",
        "  seq = sequences[n]\n",
        "  seq = seq[seq != 0]\n",
        "  print(f'Observed sequence {n+1}: {seq}\\n')\n",
        "  # M.shape = [sequence length, # of hidden variables]\n",
        "  m_matrix = np.zeros((len(seq), emission_dataframe.shape[1]-1)) \n",
        "  # In this case, Sequence of length 3-5 with 2 possible hidden vairable values (H, C)\n",
        "\n",
        "  # C.shape = [sequence length - 1, # hidden variables]\n",
        "  c_matrix = np.delete(m_matrix, 0, 0)\n",
        "  # In this case, Sequence of length 5-1 with 2 hidden variable values\n",
        "  c_matrix = c_matrix.transpose()\n",
        "  # print(m_matrix)\n",
        "  # print(c_matrix)\n",
        "\n",
        "  seq = seq - 1 #decrement seq for proper indexing\n",
        "  forward(m_matrix, c_matrix)\n"
      ],
      "execution_count": 170,
      "outputs": [
        {
          "output_type": "stream",
          "text": [
            "Observed sequence 1: [1 1 1 2 2]\n",
            "\n",
            "Forward phase calculations:\n",
            "M[0][0]: 0.4 * 0.9\n",
            "M[0][1]: 0.32 * 0.2\n",
            "M[0][2]: 0.28 * 0.7\n",
            "M[2][1]: 0.9 * 0.46451612903225803\n",
            "M[2][2]: 0.2 * 0.09483870967741935\n",
            "M[2][3]: 0.7 * 0.15806451612903225\n",
            "M[3][1]: 0.9 * 0.6106726351749323\n",
            "M[3][2]: 0.2 * 0.06060784544704911\n",
            "M[3][3]: 0.7 * 0.11450111909529978\n",
            "M[4][1]: 0.1 * 0.6849969718658812\n",
            "M[4][2]: 0.8 * 0.04281231074161757\n",
            "M[4][3]: 0.3 * 0.1284369322248527\n",
            "M[5][1]: 0.1 * 0.38787878787878793\n",
            "M[5][2]: 0.8 * 0.14545454545454545\n",
            "M[5][3]: 0.3 * 0.13636363636363633\n",
            "M-Matrix:\n",
            "[[0.58064516 0.10322581 0.31612903]\n",
            " [0.76334079 0.03463305 0.20202615]\n",
            " [0.85624621 0.01888455 0.12486924]\n",
            " [0.48484848 0.24242424 0.27272727]\n",
            " [0.19783617 0.5935085  0.20865533]]\n",
            "C-Matrix (transposed):\n",
            "[[1. 3. 3.]\n",
            " [1. 3. 1.]\n",
            " [1. 1. 1.]\n",
            " [1. 2. 3.]]\n",
            "Most Likely Sequence: [1 1 1 2 2]\n",
            "___________________________________________________________\n",
            "\n",
            "Observed sequence 2: [2 1 2]\n",
            "\n",
            "Forward phase calculations:\n",
            "M[0][0]: 0.4 * 0.1\n",
            "M[0][1]: 0.32 * 0.8\n",
            "M[0][2]: 0.28 * 0.3\n",
            "M[2][1]: 0.9 * 0.13473684210526313\n",
            "M[2][2]: 0.2 * 0.4042105263157894\n",
            "M[2][3]: 0.7 * 0.13473684210526313\n",
            "M[3][1]: 0.1 * 0.32727272727272727\n",
            "M[3][2]: 0.8 * 0.1636363636363636\n",
            "M[3][3]: 0.3 * 0.15909090909090906\n",
            "M-Matrix:\n",
            "[[0.10526316 0.67368421 0.22105263]\n",
            " [0.40909091 0.27272727 0.31818182]\n",
            " [0.15483871 0.61935484 0.22580645]]\n",
            "C-Matrix (transposed):\n",
            "[[2. 2. 2.]\n",
            " [1. 2. 3.]]\n",
            "Most Likely Sequence: [2 2 2]\n",
            "___________________________________________________________\n",
            "\n"
          ],
          "name": "stdout"
        }
      ]
    },
    {
      "cell_type": "markdown",
      "metadata": {
        "id": "Pw70OjvZd6d9",
        "colab_type": "text"
      },
      "source": [
        "Forward Phase: Calculate values for the M-Matrix. One step at a time. Starting at first state and moving forward. Filling in the C-Marix as we go.\n",
        "\n",
        "Choose value for last state by maximizing value of hidden state"
      ]
    },
    {
      "cell_type": "code",
      "metadata": {
        "id": "1YxmzFUfd6Je",
        "colab_type": "code",
        "colab": {}
      },
      "source": [
        "def forward(m_matrix, c_matrix):\n",
        "  # use priors to set first row of M matrix\n",
        "  print(\"Forward phase calculations:\")\n",
        "  for i in range(B.shape[1]):\n",
        "    m_matrix[0,i] = A[i,A.shape[1]-1] * B[seq[0], i]\n",
        "    print(f'M[0][{i}]: {A[i,A.shape[1]-1]} * {B[seq[0], i]}')\n",
        "\n",
        "  normalizeRow(m_matrix, 0);\n",
        "  vect = np.zeros(3)\n",
        "  for s in range(1, len(seq)):\n",
        "    for k in range(B.shape[1]):\n",
        "      for j in range(B.shape[1]):\n",
        "        vect[j] = (A[j][k] * m_matrix[s-1][j])\n",
        "      max = np.max(vect)\n",
        "      print(f'M[{s+1}][{k+1}]: {B[seq[s], k]} * {max}')\n",
        "      m_matrix[s][k] = B[seq[s], k] * max\n",
        "      c = np.where(vect == max)\n",
        "      c_matrix[k][s-1]=c[0][0]\n",
        "    normalizeRow(m_matrix, s)\n",
        "\n",
        "  c_matrix_print = c_matrix + 1\n",
        "  print(f'M-Matrix:\\n{m_matrix}')\n",
        "  print(f'C-Matrix (transposed):\\n{c_matrix_print.transpose()}')\n",
        "  # convert C-Matrix to int so we can use its values as indexes\n",
        "  c_matrix = c_matrix.astype(int)\n",
        "  backward(m_matrix, c_matrix)"
      ],
      "execution_count": 165,
      "outputs": []
    },
    {
      "cell_type": "markdown",
      "metadata": {
        "id": "SHekFRaHgxQ7",
        "colab_type": "text"
      },
      "source": [
        "**Backward Phase**: Use final row of M-matrix to find final member of the most likely sequence. From this, us C-Matrix to work backwards and find what the values of the preceding hidden states should be."
      ]
    },
    {
      "cell_type": "code",
      "metadata": {
        "id": "uAFuMiTPFBAu",
        "colab_type": "code",
        "colab": {}
      },
      "source": [
        "def backward(m_matrix, c_matrix):\n",
        "  MLS = np.zeros_like(seq)\n",
        "  last_row = m_matrix[len(seq)-1]\n",
        "  m_max = np.max(last_row)\n",
        "  last_hidden = np.where(last_row == m_max)\n",
        "  MLS[len(seq)-1] = last_hidden[0][0]\n",
        "  #c_matrix = c_matrix.astype(int)\n",
        "  #print(MLS)\n",
        "  for i in range(len(seq) - 2, -1, -1):\n",
        "    #print(\"i:\", i)\n",
        "    #print(MLS[i+1])\n",
        "    x = c_matrix[MLS[i+1]][i]\n",
        "    MLS[i] = x\n",
        "  MLS_print = MLS + 1\n",
        "  print(f'Most Likely Sequence: {MLS_print}')\n",
        "  print('___________________________________________________________\\n')"
      ],
      "execution_count": 163,
      "outputs": []
    },
    {
      "cell_type": "code",
      "metadata": {
        "id": "ELqH5rYvIyqO",
        "colab_type": "code",
        "colab": {}
      },
      "source": [
        "def normalizeRow(m, i):\n",
        "  # Normalize each row in M-Matrix (each obseervation) to prevent underflow\n",
        "  norm_m = m  #python uses pass by reference so this will change m\n",
        "  row = m[i]\n",
        "  row = row / np.sum(row)\n",
        "  norm_m[i] = row\n"
      ],
      "execution_count": 171,
      "outputs": []
    }
  ]
}