{
  "nbformat": 4,
  "nbformat_minor": 0,
  "metadata": {
    "colab": {
      "name": "McNamara Lab #3: HMMs.ipynb",
      "provenance": [],
      "collapsed_sections": [],
      "authorship_tag": "ABX9TyMANmliXtklVRDwUfKkxLPX",
      "include_colab_link": true
    },
    "kernelspec": {
      "name": "python3",
      "display_name": "Python 3"
    }
  },
  "cells": [
    {
      "cell_type": "markdown",
      "metadata": {
        "id": "view-in-github",
        "colab_type": "text"
      },
      "source": [
        "<a href=\"https://colab.research.google.com/github/LiamAMcNamara/HMMs-Lab3/blob/Part2/McNamara_Lab_3_HMMs.ipynb\" target=\"_parent\"><img src=\"https://colab.research.google.com/assets/colab-badge.svg\" alt=\"Open In Colab\"/></a>"
      ]
    },
    {
      "cell_type": "markdown",
      "metadata": {
        "id": "wYIP12YMSjxe",
        "colab_type": "text"
      },
      "source": [
        "**CSE 5522 Lab #3: Hidden Markov Models**\n",
        "\n",
        "Liam McNamara.308\n",
        "\n",
        "June 11, 2020\n",
        "\n",
        "---\n",
        "---"
      ]
    },
    {
      "cell_type": "markdown",
      "metadata": {
        "id": "M-wKlc8eIZzV",
        "colab_type": "text"
      },
      "source": [
        "**Part 1 (50 Points):** Implement the Viterbi Algorithm for HMMs for Eisner's Ice Cream Problem (predict whether each day is hot or cold based on the number of ice creams eaten). See elsner.hmm.xls for a bit more discussion on the problem. Remeber that the Viterbi algorithm computes the most likely sequence for an input.\n",
        "\n",
        "Your solution should be able to handle variable length sequences (in the range of 3-5).\n",
        "\n",
        "There are 3 files provided for you that have observation/emission probabilities, transition probabilities, and test sequence data (for evaluation), respectively.\n",
        "\n",
        "Please read the probabilities and observations from their Carmen URLs, *do not hard-code the values*. Refer back to lab 2 for exampes of working with CSV files and how to download them from URLs.\n",
        "\n",
        "The observation and transition probabilities have rows being the variable of interest, and columns being the conditioning variables. For example, P(2|H) is in the 3rd row (including header), 3rd column (including row label). The columns sum up to 1.\n",
        "\n",
        "The test data has one line per sequence. When a sequence is less than five observations long, the last  columns are filled with zeros.\n",
        "\n"
      ]
    },
    {
      "cell_type": "markdown",
      "metadata": {
        "id": "Syd8WluUS8gJ",
        "colab_type": "text"
      },
      "source": [
        "Set up the environment"
      ]
    },
    {
      "cell_type": "code",
      "metadata": {
        "id": "eFbCF14o8X33",
        "colab_type": "code",
        "colab": {}
      },
      "source": [
        "import matplotlib.pyplot as plt\n",
        "import pandas as pd\n",
        "import numpy as np\n",
        "import random as rdm"
      ],
      "execution_count": 222,
      "outputs": []
    },
    {
      "cell_type": "markdown",
      "metadata": {
        "id": "GaV1tRaKTHf1",
        "colab_type": "text"
      },
      "source": [
        "Read in the provided data from Carmen URL"
      ]
    },
    {
      "cell_type": "code",
      "metadata": {
        "id": "g3jtVSmzB8T4",
        "colab_type": "code",
        "colab": {}
      },
      "source": [
        "\n",
        "emissionURL = 'https://raw.githubusercontent.com/LiamAMcNamara/HMMs-Lab3/master/observationProbsLecture.csv'\n",
        "emission_dataframe = pd.read_csv(emissionURL)\n",
        "transitionURL = 'https://raw.githubusercontent.com/LiamAMcNamara/HMMs-Lab3/master/transitionProbsLecture.csv'\n",
        "transition_dataframe = pd.read_csv(transitionURL)\n",
        "testDataURL = 'https://raw.githubusercontent.com/LiamAMcNamara/HMMs-Lab3/master/testDataLecture.csv'\n",
        "testData_dataframe = pd.read_csv(testDataURL)"
      ],
      "execution_count": 195,
      "outputs": []
    },
    {
      "cell_type": "code",
      "metadata": {
        "id": "j1ibBmZtU1vX",
        "colab_type": "code",
        "colab": {}
      },
      "source": [
        "emissionURL = 'http://web.cse.ohio-state.edu/~barker.348/cse5522/lab3/observationProbs.csv'\n",
        "emission_dataframe = pd.read_csv(emissionURL)\n",
        "transitionURL = 'http://web.cse.ohio-state.edu/~barker.348/cse5522/lab3/transitionProbs.csv'\n",
        "transition_dataframe = pd.read_csv(transitionURL)\n",
        "testDataURL = 'http://web.cse.ohio-state.edu/~barker.348/cse5522/lab3/testData.csv'\n",
        "testData_dataframe = pd.read_csv(testDataURL)"
      ],
      "execution_count": 196,
      "outputs": []
    },
    {
      "cell_type": "markdown",
      "metadata": {
        "id": "U1FAs5XtVqnd",
        "colab_type": "text"
      },
      "source": [
        "Print out the top of the dataframes to make sure the data loaded correctly. The data tables should have the following format:\n",
        "\n",
        "Emission Probabilities [3, 3]: 3 columns (P(x|...), C, H), and 3 rows corresponding the the number of ice creams\n",
        "\n",
        "Transition Probabilities [3, 4]: 4 columns (P(x|...), C, H, START), and 3 rows (C, H, STOP)\n",
        "\n",
        "Test Sequence Data [10, 6]: 6 columns (SeqNumber, Obs1...5), and 10 rows corresponing the the sequence sample number.\n",
        "\n",
        "Note: The test data has one line per sequence. When a sequence is less than five observations long, the last columns are filled with zeros."
      ]
    },
    {
      "cell_type": "code",
      "metadata": {
        "id": "ImUuqM6DV2Cq",
        "colab_type": "code",
        "colab": {
          "base_uri": "https://localhost:8080/",
          "height": 613
        },
        "outputId": "e29957d5-6b9e-48af-f830-05efe4dfdf4e"
      },
      "source": [
        "print(\"Emission Probabilities\")\n",
        "display(emission_dataframe.shape)\n",
        "display(emission_dataframe.head())\n",
        "print('\\n')\n",
        "print(\"Transition Probabilities\")\n",
        "display(transition_dataframe.shape)\n",
        "display(transition_dataframe.head())\n",
        "print('\\n')\n",
        "print(\"Test Sequence Data\")\n",
        "display(testData_dataframe.shape)\n",
        "display(testData_dataframe.head())"
      ],
      "execution_count": 197,
      "outputs": [
        {
          "output_type": "stream",
          "text": [
            "Emission Probabilities\n"
          ],
          "name": "stdout"
        },
        {
          "output_type": "display_data",
          "data": {
            "text/plain": [
              "(3, 3)"
            ]
          },
          "metadata": {
            "tags": []
          }
        },
        {
          "output_type": "display_data",
          "data": {
            "text/html": [
              "<div>\n",
              "<style scoped>\n",
              "    .dataframe tbody tr th:only-of-type {\n",
              "        vertical-align: middle;\n",
              "    }\n",
              "\n",
              "    .dataframe tbody tr th {\n",
              "        vertical-align: top;\n",
              "    }\n",
              "\n",
              "    .dataframe thead th {\n",
              "        text-align: right;\n",
              "    }\n",
              "</style>\n",
              "<table border=\"1\" class=\"dataframe\">\n",
              "  <thead>\n",
              "    <tr style=\"text-align: right;\">\n",
              "      <th></th>\n",
              "      <th>P(x|...)</th>\n",
              "      <th>C</th>\n",
              "      <th>H</th>\n",
              "    </tr>\n",
              "  </thead>\n",
              "  <tbody>\n",
              "    <tr>\n",
              "      <th>0</th>\n",
              "      <td>1</td>\n",
              "      <td>0.6407</td>\n",
              "      <td>0.0002</td>\n",
              "    </tr>\n",
              "    <tr>\n",
              "      <th>1</th>\n",
              "      <td>2</td>\n",
              "      <td>0.1481</td>\n",
              "      <td>0.5341</td>\n",
              "    </tr>\n",
              "    <tr>\n",
              "      <th>2</th>\n",
              "      <td>3</td>\n",
              "      <td>0.2122</td>\n",
              "      <td>0.4657</td>\n",
              "    </tr>\n",
              "  </tbody>\n",
              "</table>\n",
              "</div>"
            ],
            "text/plain": [
              "   P(x|...)       C       H\n",
              "0         1  0.6407  0.0002\n",
              "1         2  0.1481  0.5341\n",
              "2         3  0.2122  0.4657"
            ]
          },
          "metadata": {
            "tags": []
          }
        },
        {
          "output_type": "stream",
          "text": [
            "\n",
            "\n",
            "Transition Probabilities\n"
          ],
          "name": "stdout"
        },
        {
          "output_type": "display_data",
          "data": {
            "text/plain": [
              "(3, 4)"
            ]
          },
          "metadata": {
            "tags": []
          }
        },
        {
          "output_type": "display_data",
          "data": {
            "text/html": [
              "<div>\n",
              "<style scoped>\n",
              "    .dataframe tbody tr th:only-of-type {\n",
              "        vertical-align: middle;\n",
              "    }\n",
              "\n",
              "    .dataframe tbody tr th {\n",
              "        vertical-align: top;\n",
              "    }\n",
              "\n",
              "    .dataframe thead th {\n",
              "        text-align: right;\n",
              "    }\n",
              "</style>\n",
              "<table border=\"1\" class=\"dataframe\">\n",
              "  <thead>\n",
              "    <tr style=\"text-align: right;\">\n",
              "      <th></th>\n",
              "      <th>P(x|...)</th>\n",
              "      <th>C</th>\n",
              "      <th>H</th>\n",
              "      <th>START</th>\n",
              "    </tr>\n",
              "  </thead>\n",
              "  <tbody>\n",
              "    <tr>\n",
              "      <th>0</th>\n",
              "      <td>C</td>\n",
              "      <td>0.87</td>\n",
              "      <td>0.47</td>\n",
              "      <td>0.5</td>\n",
              "    </tr>\n",
              "    <tr>\n",
              "      <th>1</th>\n",
              "      <td>H</td>\n",
              "      <td>0.07</td>\n",
              "      <td>0.47</td>\n",
              "      <td>0.5</td>\n",
              "    </tr>\n",
              "    <tr>\n",
              "      <th>2</th>\n",
              "      <td>STOP</td>\n",
              "      <td>0.06</td>\n",
              "      <td>0.06</td>\n",
              "      <td>0.0</td>\n",
              "    </tr>\n",
              "  </tbody>\n",
              "</table>\n",
              "</div>"
            ],
            "text/plain": [
              "  P(x|...)     C     H  START\n",
              "0        C  0.87  0.47    0.5\n",
              "1        H  0.07  0.47    0.5\n",
              "2     STOP  0.06  0.06    0.0"
            ]
          },
          "metadata": {
            "tags": []
          }
        },
        {
          "output_type": "stream",
          "text": [
            "\n",
            "\n",
            "Test Sequence Data\n"
          ],
          "name": "stdout"
        },
        {
          "output_type": "display_data",
          "data": {
            "text/plain": [
              "(10, 6)"
            ]
          },
          "metadata": {
            "tags": []
          }
        },
        {
          "output_type": "display_data",
          "data": {
            "text/html": [
              "<div>\n",
              "<style scoped>\n",
              "    .dataframe tbody tr th:only-of-type {\n",
              "        vertical-align: middle;\n",
              "    }\n",
              "\n",
              "    .dataframe tbody tr th {\n",
              "        vertical-align: top;\n",
              "    }\n",
              "\n",
              "    .dataframe thead th {\n",
              "        text-align: right;\n",
              "    }\n",
              "</style>\n",
              "<table border=\"1\" class=\"dataframe\">\n",
              "  <thead>\n",
              "    <tr style=\"text-align: right;\">\n",
              "      <th></th>\n",
              "      <th>SeqNumber</th>\n",
              "      <th>Obs1</th>\n",
              "      <th>Obs2</th>\n",
              "      <th>Obs3</th>\n",
              "      <th>Obs4</th>\n",
              "      <th>Obs5</th>\n",
              "    </tr>\n",
              "  </thead>\n",
              "  <tbody>\n",
              "    <tr>\n",
              "      <th>0</th>\n",
              "      <td>1</td>\n",
              "      <td>2</td>\n",
              "      <td>3</td>\n",
              "      <td>3</td>\n",
              "      <td>2</td>\n",
              "      <td>3</td>\n",
              "    </tr>\n",
              "    <tr>\n",
              "      <th>1</th>\n",
              "      <td>2</td>\n",
              "      <td>2</td>\n",
              "      <td>3</td>\n",
              "      <td>2</td>\n",
              "      <td>2</td>\n",
              "      <td>0</td>\n",
              "    </tr>\n",
              "    <tr>\n",
              "      <th>2</th>\n",
              "      <td>3</td>\n",
              "      <td>3</td>\n",
              "      <td>1</td>\n",
              "      <td>3</td>\n",
              "      <td>3</td>\n",
              "      <td>1</td>\n",
              "    </tr>\n",
              "    <tr>\n",
              "      <th>3</th>\n",
              "      <td>4</td>\n",
              "      <td>2</td>\n",
              "      <td>1</td>\n",
              "      <td>1</td>\n",
              "      <td>0</td>\n",
              "      <td>0</td>\n",
              "    </tr>\n",
              "    <tr>\n",
              "      <th>4</th>\n",
              "      <td>5</td>\n",
              "      <td>1</td>\n",
              "      <td>1</td>\n",
              "      <td>1</td>\n",
              "      <td>2</td>\n",
              "      <td>3</td>\n",
              "    </tr>\n",
              "  </tbody>\n",
              "</table>\n",
              "</div>"
            ],
            "text/plain": [
              "   SeqNumber  Obs1  Obs2  Obs3  Obs4  Obs5\n",
              "0          1     2     3     3     2     3\n",
              "1          2     2     3     2     2     0\n",
              "2          3     3     1     3     3     1\n",
              "3          4     2     1     1     0     0\n",
              "4          5     1     1     1     2     3"
            ]
          },
          "metadata": {
            "tags": []
          }
        }
      ]
    },
    {
      "cell_type": "markdown",
      "metadata": {
        "id": "g3UowFGKa471",
        "colab_type": "text"
      },
      "source": [
        "Initialize matrix variables and shorthand for emission and transition arrays"
      ]
    },
    {
      "cell_type": "code",
      "metadata": {
        "id": "GUj4H60ha24w",
        "colab_type": "code",
        "colab": {
          "base_uri": "https://localhost:8080/",
          "height": 121
        },
        "outputId": "ca3af1a8-80da-4f62-b51c-bb319d590532"
      },
      "source": [
        "# In our class notes we referred to the transition matrix as 'A'\n",
        "# and the emission/observation matrix as 'B'. So I will be doing the same.\n",
        "A = transition_dataframe.to_numpy()\n",
        "A = np.delete(A, 0, 1)  # remove extra (label) column included in the dataframe\n",
        "                        # this column included (C, H, STOP)\n",
        "B = np.array(emission_dataframe)\n",
        "B = np.delete(B, 0, 1)  # remove extra (label) column included in the dataframe\n",
        "                        # this column included (1, 2 , 3)\n",
        "\n",
        "sequences = testData_dataframe.to_numpy()\n",
        "sequences = np.delete(sequences, 0, 1)  # remove extra (label) column included in\n",
        "                                        # the df. This column inc. (1 ... n seqs)\n",
        "\n",
        "print(A)\n",
        "print(B)"
      ],
      "execution_count": 198,
      "outputs": [
        {
          "output_type": "stream",
          "text": [
            "[[0.87 0.47 0.5]\n",
            " [0.07 0.47 0.5]\n",
            " [0.06 0.06 0.0]]\n",
            "[[6.407e-01 2.000e-04]\n",
            " [1.481e-01 5.341e-01]\n",
            " [2.122e-01 4.657e-01]]\n"
          ],
          "name": "stdout"
        }
      ]
    },
    {
      "cell_type": "markdown",
      "metadata": {
        "id": "6vix3xe_lo0-",
        "colab_type": "text"
      },
      "source": [
        "Find most likely sequence of hidden varialbles given the obervation sequence.\n",
        "\n",
        "Below you will see outputs of the M and C-Matrix. For the C-Matrix, I incremented the values for printing so that they match the notation we used in lecture. However in my implementation, what prints as [1, 2, 1] is actually [0,  1, 0]. This is so that I can use the values in the C-matrix as indexes in the backward-phase. The same goes for the most likely sequence."
      ]
    },
    {
      "cell_type": "code",
      "metadata": {
        "id": "8DNX3WIX9jPM",
        "colab_type": "code",
        "colab": {
          "base_uri": "https://localhost:8080/",
          "height": 1000
        },
        "outputId": "12c507bf-090f-48fa-f0fb-01e2c925a6d1"
      },
      "source": [
        "for n in range(len(sequences)): #len(sequences)\n",
        "  seq = sequences[n]\n",
        "  seq = seq[seq != 0]\n",
        "  print(f'Observed sequence {n+1}: {seq}\\n')\n",
        "  # M.shape = [sequence length, # of hidden variables]\n",
        "  m_matrix = np.zeros((len(seq), emission_dataframe.shape[1]-1)) \n",
        "  # In this case, Sequence of length 3-5 with 2 possible hidden vairable values (H, C)\n",
        "\n",
        "  # C.shape = [sequence length - 1, # hidden variables]\n",
        "  c_matrix = np.delete(m_matrix, 0, 0)\n",
        "  # In this case, Sequence of length 5-1 with 2 hidden variable values\n",
        "  c_matrix = c_matrix.transpose()\n",
        "  # print(m_matrix)\n",
        "  # print(c_matrix)\n",
        "\n",
        "  seq = seq - 1 #decrement seq for proper indexing\n",
        "  forward(m_matrix, c_matrix)\n"
      ],
      "execution_count": 199,
      "outputs": [
        {
          "output_type": "stream",
          "text": [
            "Observed sequence 1: [2 3 3 2 3]\n",
            "\n",
            "Forward phase calculations:\n",
            "M[0][0]: 0.5 * 0.1481\n",
            "M[0][1]: 0.5 * 0.5341\n",
            "M[2][1]: 0.2122 * 0.18886983289357961\n",
            "M[2][2]: 0.4657 * 0.36796687188507765\n",
            "M[3][1]: 0.2122 * 0.1649071012306746\n",
            "M[3][2]: 0.4657 * 0.3809122556569919\n",
            "M[4][1]: 0.1481 * 0.14334479886912377\n",
            "M[4][2]: 0.5341 * 0.39256085578334693\n",
            "M[5][1]: 0.2122 * 0.07999072256804153\n",
            "M[5][2]: 0.4657 * 0.4267866211414028\n",
            "M-Matrix:\n",
            "[[0.21709176 0.78290824]\n",
            " [0.18954839 0.81045161]\n",
            " [0.16476414 0.83523586]\n",
            " [0.09194336 0.90805664]\n",
            " [0.07868236 0.92131764]]\n",
            "C-Matrix (transposed):\n",
            "[[1. 2.]\n",
            " [1. 2.]\n",
            " [1. 2.]\n",
            " [1. 2.]]\n",
            "Most Likely Sequence: [2 2 2 2 2]\n",
            "___________________________________________________________\n",
            "\n",
            "Observed sequence 2: [2 3 2 2]\n",
            "\n",
            "Forward phase calculations:\n",
            "M[0][0]: 0.5 * 0.1481\n",
            "M[0][1]: 0.5 * 0.5341\n",
            "M[2][1]: 0.2122 * 0.18886983289357961\n",
            "M[2][2]: 0.4657 * 0.36796687188507765\n",
            "M[3][1]: 0.1481 * 0.1649071012306746\n",
            "M[3][2]: 0.5341 * 0.3809122556569919\n",
            "M[4][1]: 0.1481 * 0.0932460344410975\n",
            "M[4][2]: 0.5341 * 0.4196257055318209\n",
            "M-Matrix:\n",
            "[[0.21709176 0.78290824]\n",
            " [0.18954839 0.81045161]\n",
            " [0.10717935 0.89282065]\n",
            " [0.05804073 0.94195927]]\n",
            "C-Matrix (transposed):\n",
            "[[1. 2.]\n",
            " [1. 2.]\n",
            " [1. 2.]]\n",
            "Most Likely Sequence: [2 2 2 2]\n",
            "___________________________________________________________\n",
            "\n",
            "Observed sequence 3: [3 1 3 3 1]\n",
            "\n",
            "Forward phase calculations:\n",
            "M[0][0]: 0.5 * 0.2122\n",
            "M[0][1]: 0.5 * 0.4657\n",
            "M[2][1]: 0.6407 * 0.27233220238973305\n",
            "M[2][2]: 0.0002 * 0.3228780056055465\n",
            "M[3][1]: 0.2122 * 0.8696781353458062\n",
            "M[3][2]: 0.4657 * 0.4698261190948608\n",
            "M[4][1]: 0.2122 * 0.39805939632162146\n",
            "M[4][2]: 0.4657 * 0.25495641807912406\n",
            "M[5][1]: 0.6407 * 0.36164777689556454\n",
            "M[5][2]: 0.0002 * 0.2746270630564191\n",
            "M-Matrix:\n",
            "[[3.13025520e-01 6.86974480e-01]\n",
            " [9.99630041e-01 3.69959373e-04]\n",
            " [4.57539536e-01 5.42460464e-01]\n",
            " [4.15687100e-01 5.84312900e-01]\n",
            " [9.99763010e-01 2.36989917e-04]]\n",
            "C-Matrix (transposed):\n",
            "[[1. 2.]\n",
            " [1. 1.]\n",
            " [1. 2.]\n",
            " [1. 2.]]\n",
            "Most Likely Sequence: [1 1 1 1 1]\n",
            "___________________________________________________________\n",
            "\n",
            "Observed sequence 4: [2 1 1]\n",
            "\n",
            "Forward phase calculations:\n",
            "M[0][0]: 0.5 * 0.1481\n",
            "M[0][1]: 0.5 * 0.5341\n",
            "M[2][1]: 0.6407 * 0.18886983289357961\n",
            "M[2][2]: 0.0002 * 0.36796687188507765\n",
            "M[3][1]: 0.6407 * 0.8694712180687683\n",
            "M[3][2]: 0.0002 * 0.4697143361980702\n",
            "M-Matrix:\n",
            "[[2.17091762e-01 7.82908238e-01]\n",
            " [9.99392205e-01 6.07795323e-04]\n",
            " [9.99831391e-01 1.68608958e-04]]\n",
            "C-Matrix (transposed):\n",
            "[[1. 2.]\n",
            " [1. 1.]]\n",
            "Most Likely Sequence: [1 1 1]\n",
            "___________________________________________________________\n",
            "\n",
            "Observed sequence 5: [1 1 1 2 3]\n",
            "\n",
            "Forward phase calculations:\n",
            "M[0][0]: 0.5 * 0.6407\n",
            "M[0][1]: 0.5 * 0.0002\n",
            "M[2][1]: 0.6407 * 0.8697285067873304\n",
            "M[2][2]: 0.0002 * 0.46985333125292555\n",
            "M[3][1]: 0.6407 * 0.8698533102064024\n",
            "M[3][2]: 0.0002 * 0.4699207537896657\n",
            "M[4][1]: 0.1481 * 0.8698533102064026\n",
            "M[4][2]: 0.5341 * 0.46992075378966575\n",
            "M[5][1]: 0.2122 * 0.29508966130874975\n",
            "M[5][2]: 0.4657 * 0.31058374618952594\n",
            "M-Matrix:\n",
            "[[9.99687939e-01 3.12061164e-04]\n",
            " [9.99831391e-01 1.68608958e-04]\n",
            " [9.99831391e-01 1.68608958e-04]\n",
            " [3.39183519e-01 6.60816481e-01]\n",
            " [3.02127616e-01 6.97872384e-01]]\n",
            "C-Matrix (transposed):\n",
            "[[1. 1.]\n",
            " [1. 1.]\n",
            " [1. 1.]\n",
            " [1. 2.]]\n",
            "Most Likely Sequence: [1 1 1 2 2]\n",
            "___________________________________________________________\n",
            "\n",
            "Observed sequence 6: [1 3 1 1]\n",
            "\n",
            "Forward phase calculations:\n",
            "M[0][0]: 0.5 * 0.6407\n",
            "M[0][1]: 0.5 * 0.0002\n",
            "M[2][1]: 0.2122 * 0.8697285067873304\n",
            "M[2][2]: 0.4657 * 0.46985333125292555\n",
            "M[3][1]: 0.6407 * 0.3980593963216214\n",
            "M[3][2]: 0.0002 * 0.254956418079124\n",
            "M[4][1]: 0.6407 * 0.869826089513337\n",
            "M[4][2]: 0.0002 * 0.4699060483577797\n",
            "M-Matrix:\n",
            "[[9.99687939e-01 3.12061164e-04]\n",
            " [4.57539536e-01 5.42460464e-01]\n",
            " [9.99800103e-01 1.99897111e-04]\n",
            " [9.99831391e-01 1.68608958e-04]]\n",
            "C-Matrix (transposed):\n",
            "[[1. 1.]\n",
            " [1. 2.]\n",
            " [1. 1.]]\n",
            "Most Likely Sequence: [1 1 1 1]\n",
            "___________________________________________________________\n",
            "\n",
            "Observed sequence 7: [3 2 3]\n",
            "\n",
            "Forward phase calculations:\n",
            "M[0][0]: 0.5 * 0.2122\n",
            "M[0][1]: 0.5 * 0.4657\n",
            "M[2][1]: 0.1481 * 0.27233220238973305\n",
            "M[2][2]: 0.5341 * 0.3228780056055465\n",
            "M[3][1]: 0.2122 * 0.1649071012306746\n",
            "M[3][2]: 0.4657 * 0.3809122556569918\n",
            "M-Matrix:\n",
            "[[0.31302552 0.68697448]\n",
            " [0.18954839 0.81045161]\n",
            " [0.16476414 0.83523586]]\n",
            "C-Matrix (transposed):\n",
            "[[1. 2.]\n",
            " [1. 2.]]\n",
            "Most Likely Sequence: [2 2 2]\n",
            "___________________________________________________________\n",
            "\n",
            "Observed sequence 8: [2 2 1 1]\n",
            "\n",
            "Forward phase calculations:\n",
            "M[0][0]: 0.5 * 0.1481\n",
            "M[0][1]: 0.5 * 0.5341\n",
            "M[2][1]: 0.1481 * 0.18886983289357961\n",
            "M[2][2]: 0.5341 * 0.36796687188507765\n",
            "M[3][1]: 0.6407 * 0.10839650599654164\n",
            "M[3][2]: 0.0002 * 0.41144096802485675\n",
            "M[4][1]: 0.6407 * 0.8689703905980605\n",
            "M[4][2]: 0.0002 * 0.4694437742311361\n",
            "M-Matrix:\n",
            "[[2.17091762e-01 7.82908238e-01]\n",
            " [1.24593685e-01 8.75406315e-01]\n",
            " [9.98816541e-01 1.18345908e-03]\n",
            " [9.99831391e-01 1.68608958e-04]]\n",
            "C-Matrix (transposed):\n",
            "[[1. 2.]\n",
            " [1. 2.]\n",
            " [1. 1.]]\n",
            "Most Likely Sequence: [1 1 1 1]\n",
            "___________________________________________________________\n",
            "\n",
            "Observed sequence 9: [1 3 2 3 3]\n",
            "\n",
            "Forward phase calculations:\n",
            "M[0][0]: 0.5 * 0.6407\n",
            "M[0][1]: 0.5 * 0.0002\n",
            "M[2][1]: 0.2122 * 0.8697285067873304\n",
            "M[2][2]: 0.4657 * 0.46985333125292555\n",
            "M[3][1]: 0.1481 * 0.3980593963216214\n",
            "M[3][2]: 0.5341 * 0.254956418079124\n",
            "M[4][1]: 0.2122 * 0.2628510261870648\n",
            "M[4][2]: 0.4657 * 0.32800002033572356\n",
            "M[5][1]: 0.2122 * 0.23270882464752277\n",
            "M[5][2]: 0.4657 * 0.3442837384088095\n",
            "M-Matrix:\n",
            "[[9.99687939e-01 3.12061164e-04]\n",
            " [4.57539536e-01 5.42460464e-01]\n",
            " [3.02127616e-01 6.97872384e-01]\n",
            " [2.67481408e-01 7.32518592e-01]\n",
            " [2.35467692e-01 7.64532308e-01]]\n",
            "C-Matrix (transposed):\n",
            "[[1. 1.]\n",
            " [1. 2.]\n",
            " [1. 2.]\n",
            " [1. 2.]]\n",
            "Most Likely Sequence: [1 2 2 2 2]\n",
            "___________________________________________________________\n",
            "\n",
            "Observed sequence 10: [1 1 1]\n",
            "\n",
            "Forward phase calculations:\n",
            "M[0][0]: 0.5 * 0.6407\n",
            "M[0][1]: 0.5 * 0.0002\n",
            "M[2][1]: 0.6407 * 0.8697285067873304\n",
            "M[2][2]: 0.0002 * 0.46985333125292555\n",
            "M[3][1]: 0.6407 * 0.8698533102064024\n",
            "M[3][2]: 0.0002 * 0.4699207537896657\n",
            "M-Matrix:\n",
            "[[9.99687939e-01 3.12061164e-04]\n",
            " [9.99831391e-01 1.68608958e-04]\n",
            " [9.99831391e-01 1.68608958e-04]]\n",
            "C-Matrix (transposed):\n",
            "[[1. 1.]\n",
            " [1. 1.]]\n",
            "Most Likely Sequence: [1 1 1]\n",
            "___________________________________________________________\n",
            "\n"
          ],
          "name": "stdout"
        }
      ]
    },
    {
      "cell_type": "markdown",
      "metadata": {
        "id": "Pw70OjvZd6d9",
        "colab_type": "text"
      },
      "source": [
        "Forward Phase: Calculate values for the M-Matrix. One step at a time. Starting at first state and moving forward. Filling in the C-Marix as we go.\n",
        "\n",
        "Choose value for last state by maximizing value of hidden state"
      ]
    },
    {
      "cell_type": "code",
      "metadata": {
        "id": "1YxmzFUfd6Je",
        "colab_type": "code",
        "colab": {}
      },
      "source": [
        "def forward(m_matrix, c_matrix):\n",
        "  # use priors to set first row of M matrix\n",
        "  print(\"Forward phase calculations:\")\n",
        "  for i in range(B.shape[1]):\n",
        "    m_matrix[0,i] = A[i,A.shape[1]-1] * B[seq[0], i]\n",
        "    print(f'M[0][{i}]: {A[i,A.shape[1]-1]} * {B[seq[0], i]}')\n",
        "\n",
        "  normalizeRow(m_matrix, 0);\n",
        "  vect = np.zeros(3)\n",
        "  for s in range(1, len(seq)):\n",
        "    for k in range(B.shape[1]):\n",
        "      for j in range(B.shape[1]):\n",
        "        vect[j] = (A[j][k] * m_matrix[s-1][j])\n",
        "      max = np.max(vect)\n",
        "      print(f'M[{s+1}][{k+1}]: {B[seq[s], k]} * {max}')\n",
        "      m_matrix[s][k] = B[seq[s], k] * max\n",
        "      c = np.where(vect == max)\n",
        "      c_matrix[k][s-1]=c[0][0]\n",
        "    normalizeRow(m_matrix, s)\n",
        "\n",
        "  c_matrix_print = c_matrix + 1\n",
        "  print(f'M-Matrix:\\n{m_matrix}')\n",
        "  print(f'C-Matrix (transposed):\\n{c_matrix_print.transpose()}')\n",
        "  # convert C-Matrix to int so we can use its values as indexes\n",
        "  c_matrix = c_matrix.astype(int)\n",
        "  backward(m_matrix, c_matrix)"
      ],
      "execution_count": 200,
      "outputs": []
    },
    {
      "cell_type": "markdown",
      "metadata": {
        "id": "SHekFRaHgxQ7",
        "colab_type": "text"
      },
      "source": [
        "**Backward Phase**: Use final row of M-matrix to find final member of the most likely sequence. From this, us C-Matrix to work backwards and find what the values of the preceding hidden states should be."
      ]
    },
    {
      "cell_type": "code",
      "metadata": {
        "id": "uAFuMiTPFBAu",
        "colab_type": "code",
        "colab": {}
      },
      "source": [
        "def backward(m_matrix, c_matrix):\n",
        "  MLS = np.zeros_like(seq)\n",
        "  last_row = m_matrix[len(seq)-1]\n",
        "  m_max = np.max(last_row)\n",
        "  last_hidden = np.where(last_row == m_max)\n",
        "  MLS[len(seq)-1] = last_hidden[0][0]\n",
        "  #c_matrix = c_matrix.astype(int)\n",
        "  #print(MLS)\n",
        "  for i in range(len(seq) - 2, -1, -1):\n",
        "    #print(\"i:\", i)\n",
        "    #print(MLS[i+1])\n",
        "    x = c_matrix[MLS[i+1]][i]\n",
        "    MLS[i] = x\n",
        "  MLS_print = MLS + 1\n",
        "  print(f'Most Likely Sequence: {MLS_print}')\n",
        "  print('___________________________________________________________\\n')"
      ],
      "execution_count": 201,
      "outputs": []
    },
    {
      "cell_type": "code",
      "metadata": {
        "id": "ELqH5rYvIyqO",
        "colab_type": "code",
        "colab": {}
      },
      "source": [
        "def normalizeRow(m, i):\n",
        "  # Normalize each row in M-Matrix (each obseervation) to prevent underflow\n",
        "  norm_m = m  #python uses pass by reference so this will change m\n",
        "  row = m[i]\n",
        "  row = row / np.sum(row)\n",
        "  norm_m[i] = row\n"
      ],
      "execution_count": 202,
      "outputs": []
    },
    {
      "cell_type": "markdown",
      "metadata": {
        "id": "I8Sa9nxdihhB",
        "colab_type": "text"
      },
      "source": [
        "**Part 2 (50 points)**: Using the same network, implement a likelihood samples for approximate inference. For any test sequence, sample complete sequences of the hidden states *n* times, where *n* can range from 10 to 100,000 samples. The goal is to approximate the likelihood of *all possible* sequences.\n",
        "\n",
        "Assuming the Viterbi sequence is \"correct\", how long (how many samples) does it take the sampler to converge so that the (estimated) most likely sample you get matches the Viterbi sequence?\n",
        "\n",
        "---\n",
        "---\n"
      ]
    },
    {
      "cell_type": "markdown",
      "metadata": {
        "id": "--XPVYf46r9b",
        "colab_type": "text"
      },
      "source": [
        "Diregard STOP probabilities and normalize remaining transition probabilities"
      ]
    },
    {
      "cell_type": "code",
      "metadata": {
        "id": "h3K0KFOvi9vd",
        "colab_type": "code",
        "colab": {
          "base_uri": "https://localhost:8080/",
          "height": 69
        },
        "outputId": "d1dc79d6-4ec6-4dd6-b0e2-5eb70acce5cc"
      },
      "source": [
        "#print(f'A:\\n{A}')\n",
        "#remove STOP probabilities (bottom row)\n",
        "transitionProbs = np.delete(A, A.shape[0]-1, 0)\n",
        "#remove and store START priors (right-most column)\n",
        "priors = transitionProbs[:,A.shape[1]-1]\n",
        "transitionProbs = np.delete(transitionProbs, transitionProbs.shape[1]-1, 1)\n",
        "#normalize across rows\n",
        "normalizeRow(transitionProbs, 0)\n",
        "normalizeRow(transitionProbs, 1)\n",
        "print(f'transitionProbs:\\n{transitionProbs}')\n",
        "#print(f'priors:\\n{priors}')"
      ],
      "execution_count": 217,
      "outputs": [
        {
          "output_type": "stream",
          "text": [
            "transitionProbs:\n",
            "[[0.6492537313432837 0.35074626865671643]\n",
            " [0.12962962962962962 0.8703703703703702]]\n"
          ],
          "name": "stdout"
        }
      ]
    },
    {
      "cell_type": "markdown",
      "metadata": {
        "id": "w-yAKlzW97xU",
        "colab_type": "text"
      },
      "source": [
        "Sample"
      ]
    },
    {
      "cell_type": "code",
      "metadata": {
        "id": "v8z6jWKc97Yn",
        "colab_type": "code",
        "colab": {
          "base_uri": "https://localhost:8080/",
          "height": 1000
        },
        "outputId": "4e01da7e-43bb-4d57-ee7a-88d144a9bb2d"
      },
      "source": [
        "for n in range(len(sequences)): #len(sequences)\n",
        "  seqt = sequences[n]\n",
        "  seqt = seqt[seqt != 0]\n",
        "  print(f'Observed sequence {n+1}: {seqt}')\n",
        "  seqt = seqt - 1 # for indexing\n",
        "\n",
        "  sampseq = np.zeros_like(seqt)\n",
        "  mlsw = np.zeros_like(seqt)\n",
        "  bestweight = 0\n",
        "  for i in range(10):\n",
        "    weight = weightedInference(seqt, sampseq)\n",
        "    if weight > bestweight:\n",
        "      mlsw = np.copy(sampseq)\n",
        "      bestweight = weight\n",
        "    sampseq_print = sampseq + 1\n",
        "    #print(f'Sampled sequence {i}: {sampseq_print}')\n",
        "    #print(f'weight {i}: {weight}\\n')\n",
        "  print()\n",
        "  mlsw_print = mlsw + 1\n",
        "  print(f'mlsw: {mlsw_print}')\n",
        "  print(f'bestweight: {bestweight}\\n')\n",
        "  print(\"_________________________________\")\n",
        "  "
      ],
      "execution_count": 272,
      "outputs": [
        {
          "output_type": "stream",
          "text": [
            "Observed sequence 1: [2 3 3 2 3]\n",
            "\n",
            "mlsw: [2 2 2 2 2]\n",
            "bestweight: 0.028811367344428896\n",
            "\n",
            "_________________________________\n",
            "Observed sequence 2: [2 3 2 2]\n",
            "\n",
            "mlsw: [2 2 2 2]\n",
            "bestweight: 0.07095352427853971\n",
            "\n",
            "_________________________________\n",
            "Observed sequence 3: [3 1 3 3 1]\n",
            "\n",
            "mlsw: [1 1 1 2 1]\n",
            "bestweight: 0.008608082984016935\n",
            "\n",
            "_________________________________\n",
            "Observed sequence 4: [2 1 1]\n",
            "\n",
            "mlsw: [1 1 1]\n",
            "bestweight: 0.06079453016900001\n",
            "\n",
            "_________________________________\n",
            "Observed sequence 5: [1 1 1 2 3]\n",
            "\n",
            "mlsw: [1 1 1 2 2]\n",
            "bestweight: 0.06541735611918584\n",
            "\n",
            "_________________________________\n",
            "Observed sequence 6: [1 3 1 1]\n",
            "\n",
            "mlsw: [1 1 1 1]\n",
            "bestweight: 0.05580968246254461\n",
            "\n",
            "_________________________________\n",
            "Observed sequence 7: [3 2 3]\n",
            "\n",
            "mlsw: [2 2 2]\n",
            "bestweight: 0.115833733309\n",
            "\n",
            "_________________________________\n",
            "Observed sequence 8: [2 2 1 1]\n",
            "\n",
            "mlsw: [1 1 1 1]\n",
            "bestweight: 0.009003669918028903\n",
            "\n",
            "_________________________________\n",
            "Observed sequence 9: [1 3 2 3 3]\n",
            "\n",
            "mlsw: [1 2 2 2 1]\n",
            "bestweight: 0.01574835359597439\n",
            "\n",
            "_________________________________\n",
            "Observed sequence 10: [1 1 1]\n",
            "\n",
            "mlsw: [1 1 1]\n",
            "bestweight: 0.2630051011430001\n",
            "\n",
            "_________________________________\n"
          ],
          "name": "stdout"
        }
      ]
    },
    {
      "cell_type": "code",
      "metadata": {
        "id": "Qhwae7Kl-2Xd",
        "colab_type": "code",
        "colab": {}
      },
      "source": [
        "def weightedInference(seqt, sampseq): # NOTE: (for calulation) 0 = C, 1 = H\n",
        "  \n",
        "  # sample first hidden state using priors\n",
        "  x = rdm.random()\n",
        "  if x < 0.5: sampseq[0] = 0\n",
        "  else: sampseq[0] = 1\n",
        "\n",
        "  #print(f'sampled day1: {sampseq[0]}')\n",
        "  weight = B[seqt[0]][sampseq[0]]\n",
        "  #print(f'weight: {weight}')\n",
        "  # sample remaining states using transition probabilities\n",
        "  for i in range(1, len(seqt)):\n",
        "    x = rdm.random()\n",
        "    if x < A[sampseq[i-1], 0]: sampseq[i] = 0\n",
        "    else: sampseq[i] = 1\n",
        "      \n",
        "    #print(f'sampled day{i+1}: {sampseq[i]}')\n",
        "    #print(f'THIS weight: {B[seqt[i]][sampseq[i]]}')\n",
        "    weight *= B[seqt[i]][sampseq[i]]\n",
        "    #print(f'weight: {weight}')\n",
        "  \n",
        "  return weight"
      ],
      "execution_count": 269,
      "outputs": []
    }
  ]
}